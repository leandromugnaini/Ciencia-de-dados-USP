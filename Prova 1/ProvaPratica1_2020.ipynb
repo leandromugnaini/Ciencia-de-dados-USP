{
  "nbformat": 4,
  "nbformat_minor": 0,
  "metadata": {
    "colab": {
      "name": "ProvaPratica1_2020.ipynb",
      "provenance": [],
      "collapsed_sections": []
    },
    "kernelspec": {
      "name": "python3",
      "display_name": "Python 3"
    }
  },
  "cells": [
    {
      "cell_type": "markdown",
      "metadata": {
        "id": "-T6rUnCgG0mm"
      },
      "source": [
        "**************************************\n",
        "# **Prova Prática de SCC275- Ciência de Dados**\n",
        "## SCC - ICMC - USP \n",
        "## Profa. Roseli Ap. Francelin Romero\n",
        "### PAE: Guilherme Nardari\n",
        "2o. semestre de 2020\n",
        "\n",
        "- João Marco Oliveira Barros - 10351992\n",
        "- Leandro Giusti Mugnaini - 10260351\n",
        "- Matheus Borges Kamla - 10277015\n",
        "\n",
        "**************************************\n",
        "Vamos utilizar o conjunto de dados do Kaggle **Titanic**. \n",
        "Ele descreve algumas características dos passageiros e como atributo alvo, a classe, se determinado passageiro sobreviveu ao nalfrágio ou não. Este é um conjunto de dados simples feito com fins educacionais composto de 12 atributos: \n",
        "\n",
        "**Atributo Definição Valor** \n",
        "\n",
        "- survival: Sobrevivente 0=Não, 1=Sim\n",
        "- pclass: Classe do passageiro 1=Primeira, 2=Segunda, 3=Terceira\n",
        "-sex: Sexo \n",
        "- Age: Idade em anos \n",
        "-sibsp: Número de irmãos por cônjugue abordo\n",
        "-parch: Número de pais por criança abordo \n",
        "-ticket: Número do bilhete \n",
        "-fare: Valor pago \n",
        "-cabin: Número da cabine \n",
        "-embarked: Porto de embarque C=Cherbourg, Q=Queenstown, S=Southampton \n"
      ]
    },
    {
      "cell_type": "markdown",
      "metadata": {
        "id": "Rq354HlpG_2n"
      },
      "source": [
        "# 1 - **EXPLORAÇÃO de DADOS**(EDA)\n",
        "**a)** Analise os atributos Sex, Age, SibSp, Parch, Fare, utilizando o **Boxplot** para cada atributo.\n",
        "\n",
        "**b)** Formule pelo menos 3 hipóteses baseado no item a). Por exemplo, o atributo Age segue uma distribuição normal.\n",
        "\n",
        "**c)** Reanalise as medidas do item a) por **classe**, isto é, faça o Boxplot por classe e atributos ou de maneira que o ajude a responder suas perguntas. Scatterplot, correlação e pairplot (seaborn) podem ajudar. \n",
        "\n",
        "**d)** Reanalise suas perguntas (hipóteses), é possível respondê-las com a análise realizada? Escreva suas conclusões. \n",
        "Caso não seja possível, pense nos motivos, falta de atributos, poucos dados, necessidade de EDA mais profunda?\n",
        "\n"
      ]
    },
    {
      "cell_type": "code",
      "metadata": {
        "id": "EQcitn_V-IOf",
        "outputId": "05bc5cd9-efc4-406d-c766-eeb15ac2c6a0",
        "colab": {
          "base_uri": "https://localhost:8080/",
          "height": 35
        }
      },
      "source": [
        "from google.colab import drive\n",
        "drive.mount('/content/drive')"
      ],
      "execution_count": null,
      "outputs": [
        {
          "output_type": "stream",
          "text": [
            "Drive already mounted at /content/drive; to attempt to forcibly remount, call drive.mount(\"/content/drive\", force_remount=True).\n"
          ],
          "name": "stdout"
        }
      ]
    },
    {
      "cell_type": "code",
      "metadata": {
        "id": "sOTYfYGc-d24",
        "outputId": "4d835848-552f-4f09-debc-32f278732ad9",
        "colab": {
          "base_uri": "https://localhost:8080/",
          "height": 407
        }
      },
      "source": [
        "import pandas as pd\n",
        "titanic_data = pd.read_csv(\"/content/drive/My Drive/Ciencia de Dados/Prova Prática/titanic_prova.csv\")\n",
        "titanic_atributes = titanic_data[[\"Sex\", \"Age\", \"SibSp\", \"Parch\", \"Fare\"]]\n",
        "titanic_atributes"
      ],
      "execution_count": null,
      "outputs": [
        {
          "output_type": "execute_result",
          "data": {
            "text/html": [
              "<div>\n",
              "<style scoped>\n",
              "    .dataframe tbody tr th:only-of-type {\n",
              "        vertical-align: middle;\n",
              "    }\n",
              "\n",
              "    .dataframe tbody tr th {\n",
              "        vertical-align: top;\n",
              "    }\n",
              "\n",
              "    .dataframe thead th {\n",
              "        text-align: right;\n",
              "    }\n",
              "</style>\n",
              "<table border=\"1\" class=\"dataframe\">\n",
              "  <thead>\n",
              "    <tr style=\"text-align: right;\">\n",
              "      <th></th>\n",
              "      <th>Sex</th>\n",
              "      <th>Age</th>\n",
              "      <th>SibSp</th>\n",
              "      <th>Parch</th>\n",
              "      <th>Fare</th>\n",
              "    </tr>\n",
              "  </thead>\n",
              "  <tbody>\n",
              "    <tr>\n",
              "      <th>0</th>\n",
              "      <td>male</td>\n",
              "      <td>22.0</td>\n",
              "      <td>1</td>\n",
              "      <td>0</td>\n",
              "      <td>7.2500</td>\n",
              "    </tr>\n",
              "    <tr>\n",
              "      <th>1</th>\n",
              "      <td>female</td>\n",
              "      <td>38.0</td>\n",
              "      <td>1</td>\n",
              "      <td>0</td>\n",
              "      <td>71.2833</td>\n",
              "    </tr>\n",
              "    <tr>\n",
              "      <th>2</th>\n",
              "      <td>female</td>\n",
              "      <td>26.0</td>\n",
              "      <td>0</td>\n",
              "      <td>0</td>\n",
              "      <td>7.9250</td>\n",
              "    </tr>\n",
              "    <tr>\n",
              "      <th>3</th>\n",
              "      <td>female</td>\n",
              "      <td>35.0</td>\n",
              "      <td>1</td>\n",
              "      <td>0</td>\n",
              "      <td>53.1000</td>\n",
              "    </tr>\n",
              "    <tr>\n",
              "      <th>4</th>\n",
              "      <td>male</td>\n",
              "      <td>35.0</td>\n",
              "      <td>0</td>\n",
              "      <td>0</td>\n",
              "      <td>8.0500</td>\n",
              "    </tr>\n",
              "    <tr>\n",
              "      <th>...</th>\n",
              "      <td>...</td>\n",
              "      <td>...</td>\n",
              "      <td>...</td>\n",
              "      <td>...</td>\n",
              "      <td>...</td>\n",
              "    </tr>\n",
              "    <tr>\n",
              "      <th>886</th>\n",
              "      <td>male</td>\n",
              "      <td>27.0</td>\n",
              "      <td>0</td>\n",
              "      <td>0</td>\n",
              "      <td>13.0000</td>\n",
              "    </tr>\n",
              "    <tr>\n",
              "      <th>887</th>\n",
              "      <td>female</td>\n",
              "      <td>19.0</td>\n",
              "      <td>0</td>\n",
              "      <td>0</td>\n",
              "      <td>30.0000</td>\n",
              "    </tr>\n",
              "    <tr>\n",
              "      <th>888</th>\n",
              "      <td>female</td>\n",
              "      <td>NaN</td>\n",
              "      <td>1</td>\n",
              "      <td>2</td>\n",
              "      <td>23.4500</td>\n",
              "    </tr>\n",
              "    <tr>\n",
              "      <th>889</th>\n",
              "      <td>male</td>\n",
              "      <td>26.0</td>\n",
              "      <td>0</td>\n",
              "      <td>0</td>\n",
              "      <td>30.0000</td>\n",
              "    </tr>\n",
              "    <tr>\n",
              "      <th>890</th>\n",
              "      <td>male</td>\n",
              "      <td>32.0</td>\n",
              "      <td>0</td>\n",
              "      <td>0</td>\n",
              "      <td>7.7500</td>\n",
              "    </tr>\n",
              "  </tbody>\n",
              "</table>\n",
              "<p>891 rows × 5 columns</p>\n",
              "</div>"
            ],
            "text/plain": [
              "        Sex   Age  SibSp  Parch     Fare\n",
              "0      male  22.0      1      0   7.2500\n",
              "1    female  38.0      1      0  71.2833\n",
              "2    female  26.0      0      0   7.9250\n",
              "3    female  35.0      1      0  53.1000\n",
              "4      male  35.0      0      0   8.0500\n",
              "..      ...   ...    ...    ...      ...\n",
              "886    male  27.0      0      0  13.0000\n",
              "887  female  19.0      0      0  30.0000\n",
              "888  female   NaN      1      2  23.4500\n",
              "889    male  26.0      0      0  30.0000\n",
              "890    male  32.0      0      0   7.7500\n",
              "\n",
              "[891 rows x 5 columns]"
            ]
          },
          "metadata": {
            "tags": []
          },
          "execution_count": 27
        }
      ]
    },
    {
      "cell_type": "code",
      "metadata": {
        "id": "0zSAfHH6CbLj",
        "outputId": "a4c0018f-2896-4a26-f366-bcc8d4ed4f5d",
        "colab": {
          "base_uri": "https://localhost:8080/",
          "height": 428
        }
      },
      "source": [
        "import numpy as np\n",
        "import scipy\n",
        "from matplotlib import pyplot as plt\n",
        "import seaborn as sns\n",
        "\n",
        "titanic_atributes.boxplot(column=\"Age\")\n",
        "titanic_atributes['Age'].describe()"
      ],
      "execution_count": null,
      "outputs": [
        {
          "output_type": "execute_result",
          "data": {
            "text/plain": [
              "count    714.000000\n",
              "mean      29.699118\n",
              "std       14.526497\n",
              "min        0.420000\n",
              "25%       20.125000\n",
              "50%       28.000000\n",
              "75%       38.000000\n",
              "max       80.000000\n",
              "Name: Age, dtype: float64"
            ]
          },
          "metadata": {
            "tags": []
          },
          "execution_count": 28
        },
        {
          "output_type": "display_data",
          "data": {
            "image/png": "[encoded data removed]",
            "text/plain": [
              "<Figure size 432x288 with 1 Axes>"
            ]
          },
          "metadata": {
            "tags": [],
            "needs_background": "light"
          }
        }
      ]
    },
    {
      "cell_type": "markdown",
      "metadata": {
        "id": "GnPdOqv0TUfC"
      },
      "source": [
        "É possível considerar que os dados de idade estão centrados, pois a \n",
        "diferença percentual entre a média e mediana é baixa. Podemos afirmar que 50% dos dados estão centrados entre 20 e 38."
      ]
    },
    {
      "cell_type": "code",
      "metadata": {
        "id": "RiWThp3NDhFP",
        "outputId": "a7085fbd-ebd8-44ff-f16c-f2ddc15dc7b5",
        "colab": {
          "base_uri": "https://localhost:8080/",
          "height": 428
        }
      },
      "source": [
        "titanic_atributes.boxplot(column=\"SibSp\")\n",
        "titanic_atributes['SibSp'].describe()"
      ],
      "execution_count": null,
      "outputs": [
        {
          "output_type": "execute_result",
          "data": {
            "text/plain": [
              "count    891.000000\n",
              "mean       0.523008\n",
              "std        1.102743\n",
              "min        0.000000\n",
              "25%        0.000000\n",
              "50%        0.000000\n",
              "75%        1.000000\n",
              "max        8.000000\n",
              "Name: SibSp, dtype: float64"
            ]
          },
          "metadata": {
            "tags": []
          },
          "execution_count": 29
        },
        {
          "output_type": "display_data",
          "data": {
            "image/png": "[encoded data removed]",
            "text/plain": [
              "<Figure size 432x288 with 1 Axes>"
            ]
          },
          "metadata": {
            "tags": [],
            "needs_background": "light"
          }
        }
      ]
    },
    {
      "cell_type": "markdown",
      "metadata": {
        "id": "h-71p-53Td_W"
      },
      "source": [
        "É possível observar que os dados não estão centrados, pois a mediana (medida de 50% - 0) está deslocada da média (0.52). O intervalo de 0 a 1 possui 50% dos dados"
      ]
    },
    {
      "cell_type": "code",
      "metadata": {
        "id": "iCsUJCetECsO",
        "outputId": "ddededb2-5e45-4c3e-de83-e828150c32fe",
        "colab": {
          "base_uri": "https://localhost:8080/",
          "height": 428
        }
      },
      "source": [
        "titanic_atributes.boxplot(column=\"Parch\")\n",
        "titanic_atributes['Parch'].describe()"
      ],
      "execution_count": null,
      "outputs": [
        {
          "output_type": "execute_result",
          "data": {
            "text/plain": [
              "count    891.000000\n",
              "mean       0.381594\n",
              "std        0.806057\n",
              "min        0.000000\n",
              "25%        0.000000\n",
              "50%        0.000000\n",
              "75%        0.000000\n",
              "max        6.000000\n",
              "Name: Parch, dtype: float64"
            ]
          },
          "metadata": {
            "tags": []
          },
          "execution_count": 30
        },
        {
          "output_type": "display_data",
          "data": {
            "image/png": "[encoded data removed]",
            "text/plain": [
              "<Figure size 432x288 with 1 Axes>"
            ]
          },
          "metadata": {
            "tags": [],
            "needs_background": "light"
          }
        }
      ]
    },
    {
      "cell_type": "markdown",
      "metadata": {
        "id": "hE-FS8xzTh_y"
      },
      "source": [
        "É possível observar que o número de pais com crianças abordo em sua maioria é nulo, pois os principais percentis se acumulam em 0, sendo todos os demais outliers"
      ]
    },
    {
      "cell_type": "code",
      "metadata": {
        "id": "5BmfhX76DnJY",
        "outputId": "e4536a03-ca5c-4018-ae52-621e4958bdd1",
        "colab": {
          "base_uri": "https://localhost:8080/",
          "height": 428
        }
      },
      "source": [
        "titanic_atributes.boxplot(column=\"Fare\")\n",
        "titanic_atributes['Fare'].describe()"
      ],
      "execution_count": null,
      "outputs": [
        {
          "output_type": "execute_result",
          "data": {
            "text/plain": [
              "count    891.000000\n",
              "mean      32.204208\n",
              "std       49.693429\n",
              "min        0.000000\n",
              "25%        7.910400\n",
              "50%       14.454200\n",
              "75%       31.000000\n",
              "max      512.329200\n",
              "Name: Fare, dtype: float64"
            ]
          },
          "metadata": {
            "tags": []
          },
          "execution_count": 31
        },
        {
          "output_type": "display_data",
          "data": {
            "image/png": "[encoded data removed]",
            "text/plain": [
              "<Figure size 432x288 with 1 Axes>"
            ]
          },
          "metadata": {
            "tags": [],
            "needs_background": "light"
          }
        }
      ]
    },
    {
      "cell_type": "markdown",
      "metadata": {
        "id": "wPxMreOzTmg_"
      },
      "source": [
        "É possível observar que os dados não estão centrados, pois a mediana (medida de 50% - 14.454) está deslocada da média (32.2042). O intervalo de 7.91 a 31.0 possui 50% dos dados"
      ]
    },
    {
      "cell_type": "code",
      "metadata": {
        "id": "TOyR03RbEV6A",
        "outputId": "afa8503b-f278-422b-cab9-7ce5ab558298",
        "colab": {
          "base_uri": "https://localhost:8080/",
          "height": 297
        }
      },
      "source": [
        "sns.boxplot(x=\"Sex\", y=\"Age\", data=titanic_atributes)"
      ],
      "execution_count": null,
      "outputs": [
        {
          "output_type": "execute_result",
          "data": {
            "text/plain": [
              "<matplotlib.axes._subplots.AxesSubplot at 0x7fdd9b7e26d8>"
            ]
          },
          "metadata": {
            "tags": []
          },
          "execution_count": 32
        },
        {
          "output_type": "display_data",
          "data": {
            "image/png": "[encoded data removed]",
            "text/plain": [
              "<Figure size 432x288 with 1 Axes>"
            ]
          },
          "metadata": {
            "tags": [],
            "needs_background": "light"
          }
        }
      ]
    },
    {
      "cell_type": "markdown",
      "metadata": {
        "id": "z6547-9iTqZz"
      },
      "source": [
        "É possível observar que existe uma distribuição semelhante de idades por sexo (possui uma área semelhante), no qual a a mediana de ambos estão por volta de aproximadamente 29 anos. Sem dizer que ambos estão centrados, com mediana e média próximos provavelmente."
      ]
    },
    {
      "cell_type": "code",
      "metadata": {
        "id": "9DkGJiJlTsNa",
        "outputId": "fa6a6ae9-ec07-4fde-f1bf-7b2bd85281e4",
        "colab": {
          "base_uri": "https://localhost:8080/",
          "height": 297
        }
      },
      "source": [
        "sns.boxplot(x=\"Sex\", y=\"Fare\", data=titanic_atributes)"
      ],
      "execution_count": null,
      "outputs": [
        {
          "output_type": "execute_result",
          "data": {
            "text/plain": [
              "<matplotlib.axes._subplots.AxesSubplot at 0x7fdd9b7579e8>"
            ]
          },
          "metadata": {
            "tags": []
          },
          "execution_count": 33
        },
        {
          "output_type": "display_data",
          "data": {
            "image/png": "[encoded data removed]",
            "text/plain": [
              "<Figure size 432x288 with 1 Axes>"
            ]
          },
          "metadata": {
            "tags": [],
            "needs_background": "light"
          }
        }
      ]
    },
    {
      "cell_type": "markdown",
      "metadata": {
        "id": "oXMtjg04TwP4"
      },
      "source": [
        "É possível que o preço da passagem pode possuir uma boa relação com o gênero, pois pelo boxplot é possível analisar que em média as mulheres pagaram mais caro pela passagem"
      ]
    },
    {
      "cell_type": "markdown",
      "metadata": {
        "id": "W0GlpCJsT288"
      },
      "source": [
        "## b)"
      ]
    },
    {
      "cell_type": "markdown",
      "metadata": {
        "id": "LdmVyay-T0MQ"
      },
      "source": [
        "- É possível concluir que a idade, por possuir a mediana próxima da média dos valores amostrados, segue uma distribuição normal.\n",
        "\n",
        "- O atributo Fare é desiquilibrado a esquerda já que ele concentra os percentis próximos ao início da escala\n",
        "\n",
        "- A distribuição de idade por sexo segue uma distribuição normal para ambos, já que possuem mediana próximo da média, e além disso é possível observar que a distribuição (curva) é semelhente."
      ]
    },
    {
      "cell_type": "markdown",
      "metadata": {
        "id": "nUSTz0r2T5Ka"
      },
      "source": [
        "## c)"
      ]
    },
    {
      "cell_type": "code",
      "metadata": {
        "id": "QeWAyCk8T6zR",
        "outputId": "792f678e-37d9-4ce5-dfc2-00fe146123e5",
        "colab": {
          "base_uri": "https://localhost:8080/",
          "height": 745
        }
      },
      "source": [
        "sns.pairplot(titanic_atributes)"
      ],
      "execution_count": null,
      "outputs": [
        {
          "output_type": "execute_result",
          "data": {
            "text/plain": [
              "<seaborn.axisgrid.PairGrid at 0x7fdd9b994320>"
            ]
          },
          "metadata": {
            "tags": []
          },
          "execution_count": 34
        },
        {
          "output_type": "display_data",
          "data": {
            "image/png": "[encoded data removed]",
            "text/plain": [
              "<Figure size 720x720 with 20 Axes>"
            ]
          },
          "metadata": {
            "tags": [],
            "needs_background": "light"
          }
        }
      ]
    },
    {
      "cell_type": "code",
      "metadata": {
        "id": "61wQqfkrUIbl",
        "outputId": "bcb0683e-53f1-4f3e-fc29-1e35c5531650",
        "colab": {
          "base_uri": "https://localhost:8080/",
          "height": 354
        }
      },
      "source": [
        "#titanic_atributes.plot.scatter(x='Sex',y='Age')\n",
        "\n",
        "df = titanic_atributes[titanic_atributes.Sex == 'male']\n",
        "sns.distplot(df['Age'],  kde=False,label='male')\n",
        "\n",
        "df = titanic_atributes[titanic_atributes.Sex == 'female']\n",
        "sns.distplot(df['Age'],  kde=False,label='female')\n",
        "\n",
        "plt.legend(prop={'size': 12})\n",
        "#plt.title('')\n",
        "#plt.xlabel('Life Exp (years)')\n",
        "#plt.ylabel('Density')"
      ],
      "execution_count": null,
      "outputs": [
        {
          "output_type": "stream",
          "text": [
            "/usr/local/lib/python3.6/dist-packages/seaborn/distributions.py:2551: FutureWarning: `distplot` is a deprecated function and will be removed in a future version. Please adapt your code to use either `displot` (a figure-level function with similar flexibility) or `histplot` (an axes-level function for histograms).\n",
            "  warnings.warn(msg, FutureWarning)\n"
          ],
          "name": "stderr"
        },
        {
          "output_type": "execute_result",
          "data": {
            "text/plain": [
              "<matplotlib.legend.Legend at 0x7fdda0c03160>"
            ]
          },
          "metadata": {
            "tags": []
          },
          "execution_count": 35
        },
        {
          "output_type": "display_data",
          "data": {
            "image/png": "[encoded data removed]",
            "text/plain": [
              "<Figure size 432x288 with 1 Axes>"
            ]
          },
          "metadata": {
            "tags": [],
            "needs_background": "light"
          }
        }
      ]
    },
    {
      "cell_type": "markdown",
      "metadata": {
        "id": "CiyaOn4NUKQM"
      },
      "source": [
        "##d)"
      ]
    },
    {
      "cell_type": "markdown",
      "metadata": {
        "id": "3dtfHUr_UMBM"
      },
      "source": [
        "- No pairplot é possível observar o histograma do atributo Age e observar que realmente se aproxima muito de uma distribuição normal (formato de sino)\n",
        "\n",
        "- No pairplot é possível observar o histograma do atributo Fare e observar que realmente é uma distribuição desequilibrada para esquerda, já que existe uma densidade maior no início da escala\n",
        "\n",
        "\n",
        "- Pelos histogramas do sexo masculino e femino é possível observar que realmente seguem uma distribuição normal, sendo suas distribuições com comportamento bem próximo"
      ]
    },
    {
      "cell_type": "markdown",
      "metadata": {
        "id": "vESBCrMJHsPF"
      },
      "source": [
        "\n",
        " \n",
        "# **2 - PRÉ-PROCESSAMENTO DOS DADOS** \n",
        "\n",
        "**a)** Faça a exploração dos dados. Isto é, carregue, substitua valores faltantes, padronize os dados, etc. Faça tratamento de atributos categóricos. \n",
        "\n",
        "**b)** Remova os atributos que achar necessário.  \n",
        "\n",
        "**c)** Faça também a seleção dos atributos que achar mais relevantes.\n",
        " Explique porque os escolheu. \n"
      ]
    },
    {
      "cell_type": "markdown",
      "metadata": {
        "id": "YvS92eXDHf3N"
      },
      "source": [
        "Removendo a coluna Unnamed: 0, que não é útil no treinamento."
      ]
    },
    {
      "cell_type": "code",
      "metadata": {
        "id": "9oct17jMJ8uM",
        "outputId": "3f65a5f0-b3ba-4b91-ab76-09e15ff12575",
        "colab": {
          "base_uri": "https://localhost:8080/",
          "height": 407
        }
      },
      "source": [
        "titanic_data = pd.read_csv(\"/content/drive/My Drive/Ciencia de Dados/Prova Prática/titanic_prova.csv\", na_values=['?'])\n",
        "titanic_data = titanic_data.drop(columns = [\"Unnamed: 0\"])\n",
        "titanic_data"
      ],
      "execution_count": null,
      "outputs": [
        {
          "output_type": "execute_result",
          "data": {
            "text/html": [
              "<div>\n",
              "<style scoped>\n",
              "    .dataframe tbody tr th:only-of-type {\n",
              "        vertical-align: middle;\n",
              "    }\n",
              "\n",
              "    .dataframe tbody tr th {\n",
              "        vertical-align: top;\n",
              "    }\n",
              "\n",
              "    .dataframe thead th {\n",
              "        text-align: right;\n",
              "    }\n",
              "</style>\n",
              "<table border=\"1\" class=\"dataframe\">\n",
              "  <thead>\n",
              "    <tr style=\"text-align: right;\">\n",
              "      <th></th>\n",
              "      <th>PassengerId</th>\n",
              "      <th>Survived</th>\n",
              "      <th>Pclass</th>\n",
              "      <th>Name</th>\n",
              "      <th>Sex</th>\n",
              "      <th>Age</th>\n",
              "      <th>SibSp</th>\n",
              "      <th>Parch</th>\n",
              "      <th>Ticket</th>\n",
              "      <th>Fare</th>\n",
              "      <th>Cabin</th>\n",
              "      <th>Embarked</th>\n",
              "    </tr>\n",
              "  </thead>\n",
              "  <tbody>\n",
              "    <tr>\n",
              "      <th>0</th>\n",
              "      <td>1</td>\n",
              "      <td>No</td>\n",
              "      <td>3</td>\n",
              "      <td>Braund, Mr. Owen Harris</td>\n",
              "      <td>male</td>\n",
              "      <td>22.0</td>\n",
              "      <td>1</td>\n",
              "      <td>0</td>\n",
              "      <td>A/5 21171</td>\n",
              "      <td>7.2500</td>\n",
              "      <td>NaN</td>\n",
              "      <td>S</td>\n",
              "    </tr>\n",
              "    <tr>\n",
              "      <th>1</th>\n",
              "      <td>2</td>\n",
              "      <td>Yes</td>\n",
              "      <td>1</td>\n",
              "      <td>Cumings, Mrs. John Bradley (Florence Briggs Th...</td>\n",
              "      <td>female</td>\n",
              "      <td>38.0</td>\n",
              "      <td>1</td>\n",
              "      <td>0</td>\n",
              "      <td>PC 17599</td>\n",
              "      <td>71.2833</td>\n",
              "      <td>C85</td>\n",
              "      <td>C</td>\n",
              "    </tr>\n",
              "    <tr>\n",
              "      <th>2</th>\n",
              "      <td>3</td>\n",
              "      <td>Yes</td>\n",
              "      <td>3</td>\n",
              "      <td>Heikkinen, Miss. Laina</td>\n",
              "      <td>female</td>\n",
              "      <td>26.0</td>\n",
              "      <td>0</td>\n",
              "      <td>0</td>\n",
              "      <td>STON/O2. 3101282</td>\n",
              "      <td>7.9250</td>\n",
              "      <td>NaN</td>\n",
              "      <td>S</td>\n",
              "    </tr>\n",
              "    <tr>\n",
              "      <th>3</th>\n",
              "      <td>4</td>\n",
              "      <td>Yes</td>\n",
              "      <td>1</td>\n",
              "      <td>Futrelle, Mrs. Jacques Heath (Lily May Peel)</td>\n",
              "      <td>female</td>\n",
              "      <td>35.0</td>\n",
              "      <td>1</td>\n",
              "      <td>0</td>\n",
              "      <td>113803</td>\n",
              "      <td>53.1000</td>\n",
              "      <td>C123</td>\n",
              "      <td>S</td>\n",
              "    </tr>\n",
              "    <tr>\n",
              "      <th>4</th>\n",
              "      <td>5</td>\n",
              "      <td>No</td>\n",
              "      <td>3</td>\n",
              "      <td>Allen, Mr. William Henry</td>\n",
              "      <td>male</td>\n",
              "      <td>35.0</td>\n",
              "      <td>0</td>\n",
              "      <td>0</td>\n",
              "      <td>373450</td>\n",
              "      <td>8.0500</td>\n",
              "      <td>NaN</td>\n",
              "      <td>S</td>\n",
              "    </tr>\n",
              "    <tr>\n",
              "      <th>...</th>\n",
              "      <td>...</td>\n",
              "      <td>...</td>\n",
              "      <td>...</td>\n",
              "      <td>...</td>\n",
              "      <td>...</td>\n",
              "      <td>...</td>\n",
              "      <td>...</td>\n",
              "      <td>...</td>\n",
              "      <td>...</td>\n",
              "      <td>...</td>\n",
              "      <td>...</td>\n",
              "      <td>...</td>\n",
              "    </tr>\n",
              "    <tr>\n",
              "      <th>886</th>\n",
              "      <td>887</td>\n",
              "      <td>No</td>\n",
              "      <td>2</td>\n",
              "      <td>Montvila, Rev. Juozas</td>\n",
              "      <td>male</td>\n",
              "      <td>27.0</td>\n",
              "      <td>0</td>\n",
              "      <td>0</td>\n",
              "      <td>211536</td>\n",
              "      <td>13.0000</td>\n",
              "      <td>NaN</td>\n",
              "      <td>S</td>\n",
              "    </tr>\n",
              "    <tr>\n",
              "      <th>887</th>\n",
              "      <td>888</td>\n",
              "      <td>Yes</td>\n",
              "      <td>1</td>\n",
              "      <td>Graham, Miss. Margaret Edith</td>\n",
              "      <td>female</td>\n",
              "      <td>19.0</td>\n",
              "      <td>0</td>\n",
              "      <td>0</td>\n",
              "      <td>112053</td>\n",
              "      <td>30.0000</td>\n",
              "      <td>B42</td>\n",
              "      <td>S</td>\n",
              "    </tr>\n",
              "    <tr>\n",
              "      <th>888</th>\n",
              "      <td>889</td>\n",
              "      <td>No</td>\n",
              "      <td>3</td>\n",
              "      <td>Johnston, Miss. Catherine Helen \"Carrie\"</td>\n",
              "      <td>female</td>\n",
              "      <td>NaN</td>\n",
              "      <td>1</td>\n",
              "      <td>2</td>\n",
              "      <td>W./C. 6607</td>\n",
              "      <td>23.4500</td>\n",
              "      <td>NaN</td>\n",
              "      <td>S</td>\n",
              "    </tr>\n",
              "    <tr>\n",
              "      <th>889</th>\n",
              "      <td>890</td>\n",
              "      <td>Yes</td>\n",
              "      <td>1</td>\n",
              "      <td>Behr, Mr. Karl Howell</td>\n",
              "      <td>male</td>\n",
              "      <td>26.0</td>\n",
              "      <td>0</td>\n",
              "      <td>0</td>\n",
              "      <td>111369</td>\n",
              "      <td>30.0000</td>\n",
              "      <td>C148</td>\n",
              "      <td>C</td>\n",
              "    </tr>\n",
              "    <tr>\n",
              "      <th>890</th>\n",
              "      <td>891</td>\n",
              "      <td>No</td>\n",
              "      <td>3</td>\n",
              "      <td>Dooley, Mr. Patrick</td>\n",
              "      <td>male</td>\n",
              "      <td>32.0</td>\n",
              "      <td>0</td>\n",
              "      <td>0</td>\n",
              "      <td>370376</td>\n",
              "      <td>7.7500</td>\n",
              "      <td>NaN</td>\n",
              "      <td>Q</td>\n",
              "    </tr>\n",
              "  </tbody>\n",
              "</table>\n",
              "<p>891 rows × 12 columns</p>\n",
              "</div>"
            ],
            "text/plain": [
              "     PassengerId Survived  Pclass  ...     Fare Cabin  Embarked\n",
              "0              1       No       3  ...   7.2500   NaN         S\n",
              "1              2      Yes       1  ...  71.2833   C85         C\n",
              "2              3      Yes       3  ...   7.9250   NaN         S\n",
              "3              4      Yes       1  ...  53.1000  C123         S\n",
              "4              5       No       3  ...   8.0500   NaN         S\n",
              "..           ...      ...     ...  ...      ...   ...       ...\n",
              "886          887       No       2  ...  13.0000   NaN         S\n",
              "887          888      Yes       1  ...  30.0000   B42         S\n",
              "888          889       No       3  ...  23.4500   NaN         S\n",
              "889          890      Yes       1  ...  30.0000  C148         C\n",
              "890          891       No       3  ...   7.7500   NaN         Q\n",
              "\n",
              "[891 rows x 12 columns]"
            ]
          },
          "metadata": {
            "tags": []
          },
          "execution_count": 36
        }
      ]
    },
    {
      "cell_type": "markdown",
      "metadata": {
        "id": "gwDzNLbHH0gs"
      },
      "source": [
        "Substituindo os valores numéricos faltantes utilizando a estratégia de média e os valores categóricos faltantes utilizando a estratégia mais frequente. Os atributos categóricos foram transformados na representação One-Hot. "
      ]
    },
    {
      "cell_type": "code",
      "metadata": {
        "id": "RPYiFF5lGFde",
        "outputId": "5871c7b2-f9fa-475c-8376-0ff6f0f506c8",
        "colab": {
          "base_uri": "https://localhost:8080/",
          "height": 145
        }
      },
      "source": [
        "from sklearn.pipeline import Pipeline\n",
        "from sklearn.compose import ColumnTransformer\n",
        "from sklearn.preprocessing import StandardScaler\n",
        "from sklearn.preprocessing import OneHotEncoder\n",
        "from sklearn.impute import SimpleImputer\n",
        "\n",
        "feature_numericos = ['Age', 'Fare']\n",
        "feature_categoricos = ['Survived', 'Sex', 'Pclass', 'SibSp', 'Parch', 'Embarked']\n",
        "\n",
        "pipeline_numerico = Pipeline(steps=[('imputer', SimpleImputer(strategy='mean')), ('scaler', StandardScaler())])\n",
        "pipeline_categorico = Pipeline(steps=[('imputer', SimpleImputer(strategy='most_frequent')), ('onehot', OneHotEncoder())])\n",
        "\n",
        "transformacao = ColumnTransformer(transformers=[('transformacao numerica', pipeline_numerico, feature_numericos), ('transformacao categorica', pipeline_categorico, feature_categoricos)])\n",
        "\n",
        "dados_transformados = transformacao.fit_transform(titanic_data)\n",
        "dados_transformados.round(2)"
      ],
      "execution_count": null,
      "outputs": [
        {
          "output_type": "execute_result",
          "data": {
            "text/plain": [
              "array([[-0.59, -0.5 ,  1.  , ...,  0.  ,  0.  ,  1.  ],\n",
              "       [ 0.64,  0.79,  0.  , ...,  1.  ,  0.  ,  0.  ],\n",
              "       [-0.28, -0.49,  0.  , ...,  0.  ,  0.  ,  1.  ],\n",
              "       ...,\n",
              "       [ 0.  , -0.18,  1.  , ...,  0.  ,  0.  ,  1.  ],\n",
              "       [-0.28, -0.04,  0.  , ...,  1.  ,  0.  ,  0.  ],\n",
              "       [ 0.18, -0.49,  1.  , ...,  0.  ,  1.  ,  0.  ]])"
            ]
          },
          "metadata": {
            "tags": []
          },
          "execution_count": 37
        }
      ]
    },
    {
      "cell_type": "markdown",
      "metadata": {
        "id": "NJzay77yH_df"
      },
      "source": [
        "Transformando o array definido acima em um dataframe."
      ]
    },
    {
      "cell_type": "code",
      "metadata": {
        "id": "uJHShZ3xHGfd",
        "outputId": "7d33471b-4932-41d5-83e0-d90becc64030",
        "colab": {
          "base_uri": "https://localhost:8080/",
          "height": 407
        }
      },
      "source": [
        "#adicionando nome às variáveis do dataframe\n",
        "nomes = []\n",
        "# Variáveis numéricas não tem alteração de tamanho, logo:\n",
        "nomes = nomes + feature_numericos\n",
        "\n",
        "# Para os dados categóricos devemos acessar o transformador:\n",
        "transformacao_categorica = transformacao.transformers_[1]\n",
        "# Depois o pipeline\n",
        "pipeline_categorico = transformacao_categorica[1]\n",
        "# E finalmente o onehot\n",
        "transf_onehot = pipeline_categorico.named_steps['onehot']\n",
        "# Para acessar o nome das variáveis usamos o método get_feature_names()\n",
        "nomes = nomes + (transf_onehot.get_feature_names().tolist())\n",
        "\n",
        "\n",
        "dataframe_proc = pd.DataFrame(data = dados_transformados, columns=nomes)\n",
        "dataframe_proc.round(2)"
      ],
      "execution_count": null,
      "outputs": [
        {
          "output_type": "execute_result",
          "data": {
            "text/html": [
              "<div>\n",
              "<style scoped>\n",
              "    .dataframe tbody tr th:only-of-type {\n",
              "        vertical-align: middle;\n",
              "    }\n",
              "\n",
              "    .dataframe tbody tr th {\n",
              "        vertical-align: top;\n",
              "    }\n",
              "\n",
              "    .dataframe thead th {\n",
              "        text-align: right;\n",
              "    }\n",
              "</style>\n",
              "<table border=\"1\" class=\"dataframe\">\n",
              "  <thead>\n",
              "    <tr style=\"text-align: right;\">\n",
              "      <th></th>\n",
              "      <th>Age</th>\n",
              "      <th>Fare</th>\n",
              "      <th>x0_No</th>\n",
              "      <th>x0_Yes</th>\n",
              "      <th>x1_female</th>\n",
              "      <th>x1_male</th>\n",
              "      <th>x2_1</th>\n",
              "      <th>x2_2</th>\n",
              "      <th>x2_3</th>\n",
              "      <th>x3_0</th>\n",
              "      <th>x3_1</th>\n",
              "      <th>x3_2</th>\n",
              "      <th>x3_3</th>\n",
              "      <th>x3_4</th>\n",
              "      <th>x3_5</th>\n",
              "      <th>x3_8</th>\n",
              "      <th>x4_0</th>\n",
              "      <th>x4_1</th>\n",
              "      <th>x4_2</th>\n",
              "      <th>x4_3</th>\n",
              "      <th>x4_4</th>\n",
              "      <th>x4_5</th>\n",
              "      <th>x4_6</th>\n",
              "      <th>x5_C</th>\n",
              "      <th>x5_Q</th>\n",
              "      <th>x5_S</th>\n",
              "    </tr>\n",
              "  </thead>\n",
              "  <tbody>\n",
              "    <tr>\n",
              "      <th>0</th>\n",
              "      <td>-0.59</td>\n",
              "      <td>-0.50</td>\n",
              "      <td>1.0</td>\n",
              "      <td>0.0</td>\n",
              "      <td>0.0</td>\n",
              "      <td>1.0</td>\n",
              "      <td>0.0</td>\n",
              "      <td>0.0</td>\n",
              "      <td>1.0</td>\n",
              "      <td>0.0</td>\n",
              "      <td>1.0</td>\n",
              "      <td>0.0</td>\n",
              "      <td>0.0</td>\n",
              "      <td>0.0</td>\n",
              "      <td>0.0</td>\n",
              "      <td>0.0</td>\n",
              "      <td>1.0</td>\n",
              "      <td>0.0</td>\n",
              "      <td>0.0</td>\n",
              "      <td>0.0</td>\n",
              "      <td>0.0</td>\n",
              "      <td>0.0</td>\n",
              "      <td>0.0</td>\n",
              "      <td>0.0</td>\n",
              "      <td>0.0</td>\n",
              "      <td>1.0</td>\n",
              "    </tr>\n",
              "    <tr>\n",
              "      <th>1</th>\n",
              "      <td>0.64</td>\n",
              "      <td>0.79</td>\n",
              "      <td>0.0</td>\n",
              "      <td>1.0</td>\n",
              "      <td>1.0</td>\n",
              "      <td>0.0</td>\n",
              "      <td>1.0</td>\n",
              "      <td>0.0</td>\n",
              "      <td>0.0</td>\n",
              "      <td>0.0</td>\n",
              "      <td>1.0</td>\n",
              "      <td>0.0</td>\n",
              "      <td>0.0</td>\n",
              "      <td>0.0</td>\n",
              "      <td>0.0</td>\n",
              "      <td>0.0</td>\n",
              "      <td>1.0</td>\n",
              "      <td>0.0</td>\n",
              "      <td>0.0</td>\n",
              "      <td>0.0</td>\n",
              "      <td>0.0</td>\n",
              "      <td>0.0</td>\n",
              "      <td>0.0</td>\n",
              "      <td>1.0</td>\n",
              "      <td>0.0</td>\n",
              "      <td>0.0</td>\n",
              "    </tr>\n",
              "    <tr>\n",
              "      <th>2</th>\n",
              "      <td>-0.28</td>\n",
              "      <td>-0.49</td>\n",
              "      <td>0.0</td>\n",
              "      <td>1.0</td>\n",
              "      <td>1.0</td>\n",
              "      <td>0.0</td>\n",
              "      <td>0.0</td>\n",
              "      <td>0.0</td>\n",
              "      <td>1.0</td>\n",
              "      <td>1.0</td>\n",
              "      <td>0.0</td>\n",
              "      <td>0.0</td>\n",
              "      <td>0.0</td>\n",
              "      <td>0.0</td>\n",
              "      <td>0.0</td>\n",
              "      <td>0.0</td>\n",
              "      <td>1.0</td>\n",
              "      <td>0.0</td>\n",
              "      <td>0.0</td>\n",
              "      <td>0.0</td>\n",
              "      <td>0.0</td>\n",
              "      <td>0.0</td>\n",
              "      <td>0.0</td>\n",
              "      <td>0.0</td>\n",
              "      <td>0.0</td>\n",
              "      <td>1.0</td>\n",
              "    </tr>\n",
              "    <tr>\n",
              "      <th>3</th>\n",
              "      <td>0.41</td>\n",
              "      <td>0.42</td>\n",
              "      <td>0.0</td>\n",
              "      <td>1.0</td>\n",
              "      <td>1.0</td>\n",
              "      <td>0.0</td>\n",
              "      <td>1.0</td>\n",
              "      <td>0.0</td>\n",
              "      <td>0.0</td>\n",
              "      <td>0.0</td>\n",
              "      <td>1.0</td>\n",
              "      <td>0.0</td>\n",
              "      <td>0.0</td>\n",
              "      <td>0.0</td>\n",
              "      <td>0.0</td>\n",
              "      <td>0.0</td>\n",
              "      <td>1.0</td>\n",
              "      <td>0.0</td>\n",
              "      <td>0.0</td>\n",
              "      <td>0.0</td>\n",
              "      <td>0.0</td>\n",
              "      <td>0.0</td>\n",
              "      <td>0.0</td>\n",
              "      <td>0.0</td>\n",
              "      <td>0.0</td>\n",
              "      <td>1.0</td>\n",
              "    </tr>\n",
              "    <tr>\n",
              "      <th>4</th>\n",
              "      <td>0.41</td>\n",
              "      <td>-0.49</td>\n",
              "      <td>1.0</td>\n",
              "      <td>0.0</td>\n",
              "      <td>0.0</td>\n",
              "      <td>1.0</td>\n",
              "      <td>0.0</td>\n",
              "      <td>0.0</td>\n",
              "      <td>1.0</td>\n",
              "      <td>1.0</td>\n",
              "      <td>0.0</td>\n",
              "      <td>0.0</td>\n",
              "      <td>0.0</td>\n",
              "      <td>0.0</td>\n",
              "      <td>0.0</td>\n",
              "      <td>0.0</td>\n",
              "      <td>1.0</td>\n",
              "      <td>0.0</td>\n",
              "      <td>0.0</td>\n",
              "      <td>0.0</td>\n",
              "      <td>0.0</td>\n",
              "      <td>0.0</td>\n",
              "      <td>0.0</td>\n",
              "      <td>0.0</td>\n",
              "      <td>0.0</td>\n",
              "      <td>1.0</td>\n",
              "    </tr>\n",
              "    <tr>\n",
              "      <th>...</th>\n",
              "      <td>...</td>\n",
              "      <td>...</td>\n",
              "      <td>...</td>\n",
              "      <td>...</td>\n",
              "      <td>...</td>\n",
              "      <td>...</td>\n",
              "      <td>...</td>\n",
              "      <td>...</td>\n",
              "      <td>...</td>\n",
              "      <td>...</td>\n",
              "      <td>...</td>\n",
              "      <td>...</td>\n",
              "      <td>...</td>\n",
              "      <td>...</td>\n",
              "      <td>...</td>\n",
              "      <td>...</td>\n",
              "      <td>...</td>\n",
              "      <td>...</td>\n",
              "      <td>...</td>\n",
              "      <td>...</td>\n",
              "      <td>...</td>\n",
              "      <td>...</td>\n",
              "      <td>...</td>\n",
              "      <td>...</td>\n",
              "      <td>...</td>\n",
              "      <td>...</td>\n",
              "    </tr>\n",
              "    <tr>\n",
              "      <th>886</th>\n",
              "      <td>-0.21</td>\n",
              "      <td>-0.39</td>\n",
              "      <td>1.0</td>\n",
              "      <td>0.0</td>\n",
              "      <td>0.0</td>\n",
              "      <td>1.0</td>\n",
              "      <td>0.0</td>\n",
              "      <td>1.0</td>\n",
              "      <td>0.0</td>\n",
              "      <td>1.0</td>\n",
              "      <td>0.0</td>\n",
              "      <td>0.0</td>\n",
              "      <td>0.0</td>\n",
              "      <td>0.0</td>\n",
              "      <td>0.0</td>\n",
              "      <td>0.0</td>\n",
              "      <td>1.0</td>\n",
              "      <td>0.0</td>\n",
              "      <td>0.0</td>\n",
              "      <td>0.0</td>\n",
              "      <td>0.0</td>\n",
              "      <td>0.0</td>\n",
              "      <td>0.0</td>\n",
              "      <td>0.0</td>\n",
              "      <td>0.0</td>\n",
              "      <td>1.0</td>\n",
              "    </tr>\n",
              "    <tr>\n",
              "      <th>887</th>\n",
              "      <td>-0.82</td>\n",
              "      <td>-0.04</td>\n",
              "      <td>0.0</td>\n",
              "      <td>1.0</td>\n",
              "      <td>1.0</td>\n",
              "      <td>0.0</td>\n",
              "      <td>1.0</td>\n",
              "      <td>0.0</td>\n",
              "      <td>0.0</td>\n",
              "      <td>1.0</td>\n",
              "      <td>0.0</td>\n",
              "      <td>0.0</td>\n",
              "      <td>0.0</td>\n",
              "      <td>0.0</td>\n",
              "      <td>0.0</td>\n",
              "      <td>0.0</td>\n",
              "      <td>1.0</td>\n",
              "      <td>0.0</td>\n",
              "      <td>0.0</td>\n",
              "      <td>0.0</td>\n",
              "      <td>0.0</td>\n",
              "      <td>0.0</td>\n",
              "      <td>0.0</td>\n",
              "      <td>0.0</td>\n",
              "      <td>0.0</td>\n",
              "      <td>1.0</td>\n",
              "    </tr>\n",
              "    <tr>\n",
              "      <th>888</th>\n",
              "      <td>0.00</td>\n",
              "      <td>-0.18</td>\n",
              "      <td>1.0</td>\n",
              "      <td>0.0</td>\n",
              "      <td>1.0</td>\n",
              "      <td>0.0</td>\n",
              "      <td>0.0</td>\n",
              "      <td>0.0</td>\n",
              "      <td>1.0</td>\n",
              "      <td>0.0</td>\n",
              "      <td>1.0</td>\n",
              "      <td>0.0</td>\n",
              "      <td>0.0</td>\n",
              "      <td>0.0</td>\n",
              "      <td>0.0</td>\n",
              "      <td>0.0</td>\n",
              "      <td>0.0</td>\n",
              "      <td>0.0</td>\n",
              "      <td>1.0</td>\n",
              "      <td>0.0</td>\n",
              "      <td>0.0</td>\n",
              "      <td>0.0</td>\n",
              "      <td>0.0</td>\n",
              "      <td>0.0</td>\n",
              "      <td>0.0</td>\n",
              "      <td>1.0</td>\n",
              "    </tr>\n",
              "    <tr>\n",
              "      <th>889</th>\n",
              "      <td>-0.28</td>\n",
              "      <td>-0.04</td>\n",
              "      <td>0.0</td>\n",
              "      <td>1.0</td>\n",
              "      <td>0.0</td>\n",
              "      <td>1.0</td>\n",
              "      <td>1.0</td>\n",
              "      <td>0.0</td>\n",
              "      <td>0.0</td>\n",
              "      <td>1.0</td>\n",
              "      <td>0.0</td>\n",
              "      <td>0.0</td>\n",
              "      <td>0.0</td>\n",
              "      <td>0.0</td>\n",
              "      <td>0.0</td>\n",
              "      <td>0.0</td>\n",
              "      <td>1.0</td>\n",
              "      <td>0.0</td>\n",
              "      <td>0.0</td>\n",
              "      <td>0.0</td>\n",
              "      <td>0.0</td>\n",
              "      <td>0.0</td>\n",
              "      <td>0.0</td>\n",
              "      <td>1.0</td>\n",
              "      <td>0.0</td>\n",
              "      <td>0.0</td>\n",
              "    </tr>\n",
              "    <tr>\n",
              "      <th>890</th>\n",
              "      <td>0.18</td>\n",
              "      <td>-0.49</td>\n",
              "      <td>1.0</td>\n",
              "      <td>0.0</td>\n",
              "      <td>0.0</td>\n",
              "      <td>1.0</td>\n",
              "      <td>0.0</td>\n",
              "      <td>0.0</td>\n",
              "      <td>1.0</td>\n",
              "      <td>1.0</td>\n",
              "      <td>0.0</td>\n",
              "      <td>0.0</td>\n",
              "      <td>0.0</td>\n",
              "      <td>0.0</td>\n",
              "      <td>0.0</td>\n",
              "      <td>0.0</td>\n",
              "      <td>1.0</td>\n",
              "      <td>0.0</td>\n",
              "      <td>0.0</td>\n",
              "      <td>0.0</td>\n",
              "      <td>0.0</td>\n",
              "      <td>0.0</td>\n",
              "      <td>0.0</td>\n",
              "      <td>0.0</td>\n",
              "      <td>1.0</td>\n",
              "      <td>0.0</td>\n",
              "    </tr>\n",
              "  </tbody>\n",
              "</table>\n",
              "<p>891 rows × 26 columns</p>\n",
              "</div>"
            ],
            "text/plain": [
              "      Age  Fare  x0_No  x0_Yes  x1_female  ...  x4_5  x4_6  x5_C  x5_Q  x5_S\n",
              "0   -0.59 -0.50    1.0     0.0        0.0  ...   0.0   0.0   0.0   0.0   1.0\n",
              "1    0.64  0.79    0.0     1.0        1.0  ...   0.0   0.0   1.0   0.0   0.0\n",
              "2   -0.28 -0.49    0.0     1.0        1.0  ...   0.0   0.0   0.0   0.0   1.0\n",
              "3    0.41  0.42    0.0     1.0        1.0  ...   0.0   0.0   0.0   0.0   1.0\n",
              "4    0.41 -0.49    1.0     0.0        0.0  ...   0.0   0.0   0.0   0.0   1.0\n",
              "..    ...   ...    ...     ...        ...  ...   ...   ...   ...   ...   ...\n",
              "886 -0.21 -0.39    1.0     0.0        0.0  ...   0.0   0.0   0.0   0.0   1.0\n",
              "887 -0.82 -0.04    0.0     1.0        1.0  ...   0.0   0.0   0.0   0.0   1.0\n",
              "888  0.00 -0.18    1.0     0.0        1.0  ...   0.0   0.0   0.0   0.0   1.0\n",
              "889 -0.28 -0.04    0.0     1.0        0.0  ...   0.0   0.0   1.0   0.0   0.0\n",
              "890  0.18 -0.49    1.0     0.0        0.0  ...   0.0   0.0   0.0   1.0   0.0\n",
              "\n",
              "[891 rows x 26 columns]"
            ]
          },
          "metadata": {
            "tags": []
          },
          "execution_count": 38
        }
      ]
    },
    {
      "cell_type": "markdown",
      "metadata": {
        "id": "Q4uQ06nzRHzX"
      },
      "source": [
        "Neste caso, x2 é a classe do passsageiro, sendo:\n",
        "\n",
        "x2_1 = Primeira Classe\n",
        "\n",
        "x2_2 = Segunda Classe\n",
        "\n",
        "x2_3 = Terceira Classe\n",
        "\n",
        "x3 é o número de irmãos por cônjuge à bordo:\n",
        "\n",
        "x3_n = número de irmãos n\n",
        "\n",
        "x4 é o número de pais por criança à bordo:\n",
        "\n",
        "x4_n = número de pais n\n",
        "\n",
        "E x5 é o porto de embarque do passageiro:\n",
        "\n",
        "x5_C=Cherbourg\n",
        "\n",
        "x5_Q=Queenstown\n",
        "\n",
        "x5_S=Southampton \n",
        "\n",
        "\n",
        "\n"
      ]
    },
    {
      "cell_type": "markdown",
      "metadata": {
        "id": "knvT_KnxIquy"
      },
      "source": [
        "Dessa forma, para encontrar as variáveis mais importante utilizaremos o método Feature Importance. Ele fornece uma pontuação para cada variável do conjunto de dados, sendo que quanto maior a pontuação, mais importante ou relevante é aquela variável para a saída, havendo uma maior relação. Esse método é uma classe embutida que vem com classificadores baseados em árvores de decisão, logo usaremos o Extra Tree Classifier para extrair os 10 principais recursos para o conjunto de dados."
      ]
    },
    {
      "cell_type": "code",
      "metadata": {
        "id": "bf4QhnkXIz63",
        "outputId": "4e6a8b3e-3052-4ab8-f7ee-45752dfc4de9",
        "colab": {
          "base_uri": "https://localhost:8080/",
          "height": 410
        }
      },
      "source": [
        "from sklearn.ensemble import ExtraTreesClassifier\n",
        "num = dataframe_proc['x0_Yes']\n",
        "model = ExtraTreesClassifier()\n",
        "model.fit(dataframe_proc,num)\n",
        "print(model.feature_importances_)\n",
        "feat_importances = pd.Series(model.feature_importances_, index=dataframe_proc.columns)\n",
        "feat_importances.nlargest(15).plot(kind='barh')"
      ],
      "execution_count": null,
      "outputs": [
        {
          "output_type": "stream",
          "text": [
            "[2.15745089e-03 3.48957902e-03 4.13610099e-01 4.55736932e-01\n",
            " 4.02618203e-02 3.89113606e-02 9.44912623e-03 2.41941344e-03\n",
            " 1.90082592e-02 1.43648664e-03 2.41090574e-03 1.69990806e-04\n",
            " 6.04821396e-04 4.10999342e-04 2.60959897e-05 1.28600958e-04\n",
            " 2.50902556e-03 1.28865116e-03 7.28406166e-04 4.88799546e-05\n",
            " 1.40889701e-04 1.11101872e-04 6.13555747e-06 2.28108100e-03\n",
            " 6.31836651e-04 2.02205027e-03]\n"
          ],
          "name": "stdout"
        },
        {
          "output_type": "execute_result",
          "data": {
            "text/plain": [
              "<matplotlib.axes._subplots.AxesSubplot at 0x7fdd9a6b3470>"
            ]
          },
          "metadata": {
            "tags": []
          },
          "execution_count": 62
        },
        {
          "output_type": "display_data",
          "data": {
            "image/png": "[encoded data removed]",
            "text/plain": [
              "<Figure size 432x288 with 1 Axes>"
            ]
          },
          "metadata": {
            "tags": [],
            "needs_background": "light"
          }
        }
      ]
    },
    {
      "cell_type": "code",
      "metadata": {
        "id": "uO3EsZJaRC4m",
        "outputId": "725b3259-6be0-4d64-e6a5-3d14dd406390",
        "colab": {
          "base_uri": "https://localhost:8080/",
          "height": 35
        }
      },
      "source": [
        "final_features = []\n",
        "for index, _ in feat_importances.nlargest(10).iteritems():\n",
        "  final_features.append(index)\n",
        "\n",
        "print(final_features)"
      ],
      "execution_count": null,
      "outputs": [
        {
          "output_type": "stream",
          "text": [
            "['x0_No', 'x0_Yes', 'x1_male', 'x1_female', 'x2_3', 'x2_1', 'Fare', 'x4_0', 'x3_1', 'Age']\n"
          ],
          "name": "stdout"
        }
      ]
    },
    {
      "cell_type": "markdown",
      "metadata": {
        "id": "dfrEv7gzXfvd"
      },
      "source": [
        "Dentre os atributos avaliados, decidimos que as variáveis de maior relevância são o sexo, a classe do passageiro, o preço pago pela passagem e idade. "
      ]
    },
    {
      "cell_type": "markdown",
      "metadata": {
        "id": "0C_QneKWISs1"
      },
      "source": [
        "#**3 - Modelagem dos Dados**\n",
        "Pede-se:\n",
        "**a)** Usar a função abaixo para classificação da sua base de dados\n",
        "\n",
        "**b)** Baseado nos resultados do item anterior, qual é o melhor modelo?\n",
        "\n",
        "**c)** Reduzir a dimensionalidade dos dados usando a tecnica PCA.\n",
        "\n",
        "**d)** Verificar o desempenho dos classificadores com a redução da dimensionalidade e comentar sobre o"
      ]
    },
    {
      "cell_type": "code",
      "metadata": {
        "id": "6cLeBEcjGavf",
        "outputId": "932002d8-6d2e-41b0-9451-c0d8f6877da2",
        "colab": {
          "base_uri": "https://localhost:8080/",
          "height": 72
        }
      },
      "source": [
        "from sklearn.model_selection import cross_val_score\n",
        "from sklearn.neural_network import MLPClassifier\n",
        "from sklearn.svm import SVC\n",
        "from sklearn.tree import DecisionTreeClassifier\n",
        "import numpy as np\n",
        "\n",
        "classificadores = {\n",
        "  \"Multi-Layer Perceptron (15,)\" : {\"modelo\": MLPClassifier(random_state=1, hidden_layer_sizes=(15,), max_iter=2000), \"scores\": []},\n",
        "  \"SVM Polinomial Grau 3\" : {\"modelo\": SVC(kernel='poly', degree=3, gamma=1), \"scores\": []},\n",
        "  \"Árvore Decisão Critério Gini\" : {\"modelo\": DecisionTreeClassifier(criterion='gini'), \"scores\": []},  \n",
        "}\n",
        "\n",
        "X = dataframe_proc[['x1_male', 'x1_female', 'x2_3', 'x2_2','x2_1', 'Fare', 'Age']]\n",
        "y = dataframe_proc[['x0_No', 'x0_Yes']]\n",
        "yb = dataframe_proc['x0_Yes']\n",
        "\n",
        "for classificador_name in classificadores:  \n",
        "  modelo = classificadores[classificador_name][\"modelo\"]\n",
        "  if (classificador_name == \"Multi-Layer Perceptron (15,)\"):\n",
        "    classificadores[classificador_name][\"scores\"] = cross_val_score(modelo, X, y, cv=10)\n",
        "  else:\n",
        "    classificadores[classificador_name][\"scores\"] = cross_val_score(modelo, X, yb, cv=10)\n",
        "  print(\"%s: %.2f \" % (classificador_name, 100*np.mean(classificadores[classificador_name][\"scores\"])))"
      ],
      "execution_count": null,
      "outputs": [
        {
          "output_type": "stream",
          "text": [
            "Multi-Layer Perceptron (15,): 76.77 \n",
            "SVM Polinomial Grau 3: 81.36 \n",
            "Árvore Decisão Critério Gini: 77.11 \n"
          ],
          "name": "stdout"
        }
      ]
    },
    {
      "cell_type": "markdown",
      "metadata": {
        "id": "aay0pcmKcA0a"
      },
      "source": [
        "# b)\n",
        "\n",
        "Considerando somente a acurácia dos modelos oferecidos, foi se escolhido o SVM Polinomial Grau 3 como o melhor dentre eles."
      ]
    },
    {
      "cell_type": "markdown",
      "metadata": {
        "id": "8oLybNp3cxI6"
      },
      "source": [
        "# c)"
      ]
    },
    {
      "cell_type": "code",
      "metadata": {
        "id": "v-hskuhucOaD",
        "outputId": "e7ba78ee-cfb5-419f-9e15-c2e37e9fcdf4",
        "colab": {
          "base_uri": "https://localhost:8080/",
          "height": 381
        }
      },
      "source": [
        "from sklearn.decomposition import PCA\n",
        "\n",
        "final_dataset = X\n",
        "for n_components in range (2,6):\n",
        "  decomposition_pca = PCA(n_components, whiten='True')\n",
        "  decomposed_dataset = decomposition_pca.fit(final_dataset).transform(final_dataset)\n",
        "\n",
        "  print('\\n \\nUtilizando ' + str(n_components) + \" componentes\")\n",
        "  print('Variança de cada elemento:', decomposition_pca.explained_variance_ratio_)\n",
        "  print('Variancia total do conjunto:', round(sum(list(decomposition_pca.explained_variance_ratio_))*100,2), '%')\n",
        "\n",
        "#foi possivel reduzir o número total de váriaveis de 10 para 5 mantendo 85% da vâriancia total"
      ],
      "execution_count": null,
      "outputs": [
        {
          "output_type": "stream",
          "text": [
            "\n",
            " \n",
            "Utilizando 2 componentes\n",
            "Variança de cada elemento: [0.41123081 0.30982595]\n",
            "Variancia total do conjunto: 72.11 %\n",
            "\n",
            " \n",
            "Utilizando 3 componentes\n",
            "Variança de cada elemento: [0.41123081 0.30982595 0.14016363]\n",
            "Variancia total do conjunto: 86.12 %\n",
            "\n",
            " \n",
            "Utilizando 4 componentes\n",
            "Variança de cada elemento: [0.41123081 0.30982595 0.14016363 0.09294629]\n",
            "Variancia total do conjunto: 95.42 %\n",
            "\n",
            " \n",
            "Utilizando 5 componentes\n",
            "Variança de cada elemento: [0.41123081 0.30982595 0.14016363 0.09294629 0.04583331]\n",
            "Variancia total do conjunto: 100.0 %\n"
          ],
          "name": "stdout"
        }
      ]
    },
    {
      "cell_type": "markdown",
      "metadata": {
        "id": "I4hZnxFwd9P5"
      },
      "source": [
        "Utilizando o método PCA, foi possível conseguir uma variância de 86,12% com o uso de apenas 3 componentes. Isso diminui a dimensionalidade do nosso dataset final mantendo suas propriedades."
      ]
    },
    {
      "cell_type": "markdown",
      "metadata": {
        "id": "UxNaMPJAeYx7"
      },
      "source": [
        "#d)"
      ]
    },
    {
      "cell_type": "code",
      "metadata": {
        "id": "EXaxvVJoeYOy"
      },
      "source": [
        "final_dataset = X\n",
        "\n",
        "decomposition_pca = PCA(n_components = 3, whiten='True')\n",
        "decomposed_dataset = decomposition_pca.fit(final_dataset).transform(final_dataset)"
      ],
      "execution_count": null,
      "outputs": []
    },
    {
      "cell_type": "code",
      "metadata": {
        "id": "RWMf3v0RcvQp",
        "outputId": "9745a66b-b46e-4f57-912d-5c412a5d2d61",
        "colab": {
          "base_uri": "https://localhost:8080/",
          "height": 72
        }
      },
      "source": [
        "X = decomposed_dataset\n",
        "\n",
        "for classificador_name in classificadores:  \n",
        "  modelo = classificadores[classificador_name][\"modelo\"]\n",
        "  if (classificador_name == \"Multi-Layer Perceptron (15,)\"):\n",
        "    classificadores[classificador_name][\"scores\"] = cross_val_score(modelo, X, y, cv=10)\n",
        "  else:\n",
        "    classificadores[classificador_name][\"scores\"] = cross_val_score(modelo, X, yb, cv=10)\n",
        "  print(\"%s: %.2f \" % (classificador_name, 100*np.mean(classificadores[classificador_name][\"scores\"])))"
      ],
      "execution_count": null,
      "outputs": [
        {
          "output_type": "stream",
          "text": [
            "Multi-Layer Perceptron (15,): 78.45 \n",
            "SVM Polinomial Grau 3: 79.23 \n",
            "Árvore Decisão Critério Gini: 77.11 \n"
          ],
          "name": "stdout"
        }
      ]
    },
    {
      "cell_type": "markdown",
      "metadata": {
        "id": "MXviEVPUe2Z4"
      },
      "source": [
        "É possível observar que ao usar o PCA para reduzir a dimensionalidade dos atributos não houve mudanças significativas nas acurácias de cada classificador. O primeiro modelo melhorou levemente, o segundo houve ligeira piora e o último se manteve o mesmo. Apesar das variações o SVM Polinomial ainda se manteve sendo o melhor."
      ]
    },
    {
      "cell_type": "code",
      "metadata": {
        "id": "miJjvm7ugqPJ"
      },
      "source": [
        ""
      ],
      "execution_count": null,
      "outputs": []
    }
  ]
}