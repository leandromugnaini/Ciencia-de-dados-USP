{
  "nbformat": 4,
  "nbformat_minor": 0,
  "metadata": {
    "colab": {
      "name": "Exercício 3 - Ciência de Dados",
      "provenance": [],
      "collapsed_sections": []
    },
    "kernelspec": {
      "name": "python3",
      "display_name": "Python 3"
    }
  },
  "cells": [
    {
      "cell_type": "markdown",
      "metadata": {
        "id": "HaabIE4ETRhY"
      },
      "source": [
        "# Exercício 03\n",
        "## Correlação e Visualização\n",
        "### Alunos:\n",
        "\n",
        "- João Marco Oliveira Barros - 10351992\n",
        "- Leandro Giusti Mugnaini - 10260351\n",
        "-Matheus Borges Kamla - 10277015\n",
        "\n",
        "---\n",
        "\n",
        "Nesse exercício iremos trabalhar com uma versão simplificada do conjunto *player_attributes.csv* que utilizamos na última aula com os seguinte atributos:\n",
        "\n",
        "- Dribbling - Nota para o drible do jogador\n",
        "- Ball Control - Nota para o controle da bola do jogador\n",
        "- Strength - Estimativa da força do jogador\n",
        "- Classe - Estrela ou Normal. Um jogador é considerado uma estrela se sua nota geral é maior ou igual à 78. **Você deve ignorar a coluna overall_rating uma vez que este cálculo já foi feito**\n"
      ]
    },
    {
      "cell_type": "markdown",
      "metadata": {
        "id": "_YGNezFvvnES"
      },
      "source": [
        "### Questão 01.\n",
        "\n",
        "Leia os dados (`pandas.read_csv`) do arquivo `player_attributes.csv` e separe a coluna **Classe** dos outros atributos.\n",
        "\n"
      ]
    },
    {
      "cell_type": "code",
      "metadata": {
        "id": "IXyPAd32wZq4",
        "outputId": "d87c17ae-b594-4ada-9f29-4f6e64ccf089",
        "colab": {
          "base_uri": "https://localhost:8080/"
        }
      },
      "source": [
        "from google.colab import drive\n",
        "\n",
        "drive.mount('/content/drive')\n"
      ],
      "execution_count": 1,
      "outputs": [
        {
          "output_type": "stream",
          "text": [
            "Mounted at /content/drive\n"
          ],
          "name": "stdout"
        }
      ]
    },
    {
      "cell_type": "code",
      "metadata": {
        "id": "VY0J7N_Us8Bk",
        "outputId": "0475c172-3fff-4a11-d2e2-3dd0dff36ee7",
        "colab": {
          "base_uri": "https://localhost:8080/",
          "height": 424
        }
      },
      "source": [
        "import pandas as pd\n",
        "import numpy as np\n",
        "import seaborn as sb\n",
        "players = pd.read_csv(\"/content/drive/My Drive/Colab Notebooks/player_attributes.csv\")\n",
        "players"
      ],
      "execution_count": 2,
      "outputs": [
        {
          "output_type": "execute_result",
          "data": {
            "text/html": [
              "<div>\n",
              "<style scoped>\n",
              "    .dataframe tbody tr th:only-of-type {\n",
              "        vertical-align: middle;\n",
              "    }\n",
              "\n",
              "    .dataframe tbody tr th {\n",
              "        vertical-align: top;\n",
              "    }\n",
              "\n",
              "    .dataframe thead th {\n",
              "        text-align: right;\n",
              "    }\n",
              "</style>\n",
              "<table border=\"1\" class=\"dataframe\">\n",
              "  <thead>\n",
              "    <tr style=\"text-align: right;\">\n",
              "      <th></th>\n",
              "      <th>Unnamed: 0</th>\n",
              "      <th>dribbling</th>\n",
              "      <th>ball_control</th>\n",
              "      <th>strength</th>\n",
              "      <th>overall_rating</th>\n",
              "      <th>Classe</th>\n",
              "    </tr>\n",
              "  </thead>\n",
              "  <tbody>\n",
              "    <tr>\n",
              "      <th>0</th>\n",
              "      <td>0</td>\n",
              "      <td>58.0</td>\n",
              "      <td>64.0</td>\n",
              "      <td>61.0</td>\n",
              "      <td>62.0</td>\n",
              "      <td>Normal</td>\n",
              "    </tr>\n",
              "    <tr>\n",
              "      <th>1</th>\n",
              "      <td>1</td>\n",
              "      <td>51.0</td>\n",
              "      <td>60.0</td>\n",
              "      <td>71.0</td>\n",
              "      <td>61.0</td>\n",
              "      <td>Normal</td>\n",
              "    </tr>\n",
              "    <tr>\n",
              "      <th>2</th>\n",
              "      <td>2</td>\n",
              "      <td>74.0</td>\n",
              "      <td>73.0</td>\n",
              "      <td>63.0</td>\n",
              "      <td>72.0</td>\n",
              "      <td>Normal</td>\n",
              "    </tr>\n",
              "    <tr>\n",
              "      <th>3</th>\n",
              "      <td>3</td>\n",
              "      <td>33.0</td>\n",
              "      <td>44.0</td>\n",
              "      <td>75.0</td>\n",
              "      <td>62.0</td>\n",
              "      <td>Normal</td>\n",
              "    </tr>\n",
              "    <tr>\n",
              "      <th>4</th>\n",
              "      <td>4</td>\n",
              "      <td>70.0</td>\n",
              "      <td>71.0</td>\n",
              "      <td>70.0</td>\n",
              "      <td>73.0</td>\n",
              "      <td>Normal</td>\n",
              "    </tr>\n",
              "    <tr>\n",
              "      <th>...</th>\n",
              "      <td>...</td>\n",
              "      <td>...</td>\n",
              "      <td>...</td>\n",
              "      <td>...</td>\n",
              "      <td>...</td>\n",
              "      <td>...</td>\n",
              "    </tr>\n",
              "    <tr>\n",
              "      <th>345</th>\n",
              "      <td>345</td>\n",
              "      <td>66.0</td>\n",
              "      <td>72.0</td>\n",
              "      <td>79.0</td>\n",
              "      <td>69.0</td>\n",
              "      <td>Normal</td>\n",
              "    </tr>\n",
              "    <tr>\n",
              "      <th>346</th>\n",
              "      <td>346</td>\n",
              "      <td>70.0</td>\n",
              "      <td>72.0</td>\n",
              "      <td>42.0</td>\n",
              "      <td>70.0</td>\n",
              "      <td>Normal</td>\n",
              "    </tr>\n",
              "    <tr>\n",
              "      <th>347</th>\n",
              "      <td>347</td>\n",
              "      <td>13.0</td>\n",
              "      <td>26.0</td>\n",
              "      <td>91.0</td>\n",
              "      <td>63.0</td>\n",
              "      <td>Normal</td>\n",
              "    </tr>\n",
              "    <tr>\n",
              "      <th>348</th>\n",
              "      <td>348</td>\n",
              "      <td>70.0</td>\n",
              "      <td>70.0</td>\n",
              "      <td>66.0</td>\n",
              "      <td>70.0</td>\n",
              "      <td>Normal</td>\n",
              "    </tr>\n",
              "    <tr>\n",
              "      <th>349</th>\n",
              "      <td>349</td>\n",
              "      <td>65.0</td>\n",
              "      <td>67.0</td>\n",
              "      <td>68.0</td>\n",
              "      <td>68.0</td>\n",
              "      <td>Normal</td>\n",
              "    </tr>\n",
              "  </tbody>\n",
              "</table>\n",
              "<p>350 rows × 6 columns</p>\n",
              "</div>"
            ],
            "text/plain": [
              "     Unnamed: 0  dribbling  ball_control  strength  overall_rating  Classe\n",
              "0             0       58.0          64.0      61.0            62.0  Normal\n",
              "1             1       51.0          60.0      71.0            61.0  Normal\n",
              "2             2       74.0          73.0      63.0            72.0  Normal\n",
              "3             3       33.0          44.0      75.0            62.0  Normal\n",
              "4             4       70.0          71.0      70.0            73.0  Normal\n",
              "..          ...        ...           ...       ...             ...     ...\n",
              "345         345       66.0          72.0      79.0            69.0  Normal\n",
              "346         346       70.0          72.0      42.0            70.0  Normal\n",
              "347         347       13.0          26.0      91.0            63.0  Normal\n",
              "348         348       70.0          70.0      66.0            70.0  Normal\n",
              "349         349       65.0          67.0      68.0            68.0  Normal\n",
              "\n",
              "[350 rows x 6 columns]"
            ]
          },
          "metadata": {
            "tags": []
          },
          "execution_count": 2
        }
      ]
    },
    {
      "cell_type": "code",
      "metadata": {
        "id": "YI9ruGJAtmIN",
        "outputId": "f5c0b96b-d037-4db0-8cbf-371f94adf1cb",
        "colab": {
          "base_uri": "https://localhost:8080/",
          "height": 424
        }
      },
      "source": [
        "classes = players[\"Classe\"]\n",
        "dados = players.drop(columns = [\"Unnamed: 0\", \"Classe\"])\n",
        "dados"
      ],
      "execution_count": 3,
      "outputs": [
        {
          "output_type": "execute_result",
          "data": {
            "text/html": [
              "<div>\n",
              "<style scoped>\n",
              "    .dataframe tbody tr th:only-of-type {\n",
              "        vertical-align: middle;\n",
              "    }\n",
              "\n",
              "    .dataframe tbody tr th {\n",
              "        vertical-align: top;\n",
              "    }\n",
              "\n",
              "    .dataframe thead th {\n",
              "        text-align: right;\n",
              "    }\n",
              "</style>\n",
              "<table border=\"1\" class=\"dataframe\">\n",
              "  <thead>\n",
              "    <tr style=\"text-align: right;\">\n",
              "      <th></th>\n",
              "      <th>dribbling</th>\n",
              "      <th>ball_control</th>\n",
              "      <th>strength</th>\n",
              "      <th>overall_rating</th>\n",
              "    </tr>\n",
              "  </thead>\n",
              "  <tbody>\n",
              "    <tr>\n",
              "      <th>0</th>\n",
              "      <td>58.0</td>\n",
              "      <td>64.0</td>\n",
              "      <td>61.0</td>\n",
              "      <td>62.0</td>\n",
              "    </tr>\n",
              "    <tr>\n",
              "      <th>1</th>\n",
              "      <td>51.0</td>\n",
              "      <td>60.0</td>\n",
              "      <td>71.0</td>\n",
              "      <td>61.0</td>\n",
              "    </tr>\n",
              "    <tr>\n",
              "      <th>2</th>\n",
              "      <td>74.0</td>\n",
              "      <td>73.0</td>\n",
              "      <td>63.0</td>\n",
              "      <td>72.0</td>\n",
              "    </tr>\n",
              "    <tr>\n",
              "      <th>3</th>\n",
              "      <td>33.0</td>\n",
              "      <td>44.0</td>\n",
              "      <td>75.0</td>\n",
              "      <td>62.0</td>\n",
              "    </tr>\n",
              "    <tr>\n",
              "      <th>4</th>\n",
              "      <td>70.0</td>\n",
              "      <td>71.0</td>\n",
              "      <td>70.0</td>\n",
              "      <td>73.0</td>\n",
              "    </tr>\n",
              "    <tr>\n",
              "      <th>...</th>\n",
              "      <td>...</td>\n",
              "      <td>...</td>\n",
              "      <td>...</td>\n",
              "      <td>...</td>\n",
              "    </tr>\n",
              "    <tr>\n",
              "      <th>345</th>\n",
              "      <td>66.0</td>\n",
              "      <td>72.0</td>\n",
              "      <td>79.0</td>\n",
              "      <td>69.0</td>\n",
              "    </tr>\n",
              "    <tr>\n",
              "      <th>346</th>\n",
              "      <td>70.0</td>\n",
              "      <td>72.0</td>\n",
              "      <td>42.0</td>\n",
              "      <td>70.0</td>\n",
              "    </tr>\n",
              "    <tr>\n",
              "      <th>347</th>\n",
              "      <td>13.0</td>\n",
              "      <td>26.0</td>\n",
              "      <td>91.0</td>\n",
              "      <td>63.0</td>\n",
              "    </tr>\n",
              "    <tr>\n",
              "      <th>348</th>\n",
              "      <td>70.0</td>\n",
              "      <td>70.0</td>\n",
              "      <td>66.0</td>\n",
              "      <td>70.0</td>\n",
              "    </tr>\n",
              "    <tr>\n",
              "      <th>349</th>\n",
              "      <td>65.0</td>\n",
              "      <td>67.0</td>\n",
              "      <td>68.0</td>\n",
              "      <td>68.0</td>\n",
              "    </tr>\n",
              "  </tbody>\n",
              "</table>\n",
              "<p>350 rows × 4 columns</p>\n",
              "</div>"
            ],
            "text/plain": [
              "     dribbling  ball_control  strength  overall_rating\n",
              "0         58.0          64.0      61.0            62.0\n",
              "1         51.0          60.0      71.0            61.0\n",
              "2         74.0          73.0      63.0            72.0\n",
              "3         33.0          44.0      75.0            62.0\n",
              "4         70.0          71.0      70.0            73.0\n",
              "..         ...           ...       ...             ...\n",
              "345       66.0          72.0      79.0            69.0\n",
              "346       70.0          72.0      42.0            70.0\n",
              "347       13.0          26.0      91.0            63.0\n",
              "348       70.0          70.0      66.0            70.0\n",
              "349       65.0          67.0      68.0            68.0\n",
              "\n",
              "[350 rows x 4 columns]"
            ]
          },
          "metadata": {
            "tags": []
          },
          "execution_count": 3
        }
      ]
    },
    {
      "cell_type": "markdown",
      "metadata": {
        "id": "R9AzQDDInBP-"
      },
      "source": [
        "### Questão 02.\n",
        "\n",
        "Calcule a matriz de covariância dos dados (`numpy.cov`) e visualize-a através de um heatmap (`seaborn.heatmap`). Ative a exibição dos valores de cada célula do heatmap."
      ]
    },
    {
      "cell_type": "code",
      "metadata": {
        "id": "l-V2i1g1kSWD",
        "outputId": "5037fb72-f93a-4e4b-e194-6dde8f803f7d",
        "colab": {
          "base_uri": "https://localhost:8080/",
          "height": 175
        }
      },
      "source": [
        "cov_matrix = dados.cov()\n",
        "cov_matrix"
      ],
      "execution_count": 4,
      "outputs": [
        {
          "output_type": "execute_result",
          "data": {
            "text/html": [
              "<div>\n",
              "<style scoped>\n",
              "    .dataframe tbody tr th:only-of-type {\n",
              "        vertical-align: middle;\n",
              "    }\n",
              "\n",
              "    .dataframe tbody tr th {\n",
              "        vertical-align: top;\n",
              "    }\n",
              "\n",
              "    .dataframe thead th {\n",
              "        text-align: right;\n",
              "    }\n",
              "</style>\n",
              "<table border=\"1\" class=\"dataframe\">\n",
              "  <thead>\n",
              "    <tr style=\"text-align: right;\">\n",
              "      <th></th>\n",
              "      <th>dribbling</th>\n",
              "      <th>ball_control</th>\n",
              "      <th>strength</th>\n",
              "      <th>overall_rating</th>\n",
              "    </tr>\n",
              "  </thead>\n",
              "  <tbody>\n",
              "    <tr>\n",
              "      <th>dribbling</th>\n",
              "      <td>316.641801</td>\n",
              "      <td>246.804241</td>\n",
              "      <td>-33.552043</td>\n",
              "      <td>34.336177</td>\n",
              "    </tr>\n",
              "    <tr>\n",
              "      <th>ball_control</th>\n",
              "      <td>246.804241</td>\n",
              "      <td>228.925616</td>\n",
              "      <td>-8.414212</td>\n",
              "      <td>36.604928</td>\n",
              "    </tr>\n",
              "    <tr>\n",
              "      <th>strength</th>\n",
              "      <td>-33.552043</td>\n",
              "      <td>-8.414212</td>\n",
              "      <td>125.017348</td>\n",
              "      <td>11.920892</td>\n",
              "    </tr>\n",
              "    <tr>\n",
              "      <th>overall_rating</th>\n",
              "      <td>34.336177</td>\n",
              "      <td>36.604928</td>\n",
              "      <td>11.920892</td>\n",
              "      <td>34.933287</td>\n",
              "    </tr>\n",
              "  </tbody>\n",
              "</table>\n",
              "</div>"
            ],
            "text/plain": [
              "                 dribbling  ball_control    strength  overall_rating\n",
              "dribbling       316.641801    246.804241  -33.552043       34.336177\n",
              "ball_control    246.804241    228.925616   -8.414212       36.604928\n",
              "strength        -33.552043     -8.414212  125.017348       11.920892\n",
              "overall_rating   34.336177     36.604928   11.920892       34.933287"
            ]
          },
          "metadata": {
            "tags": []
          },
          "execution_count": 4
        }
      ]
    },
    {
      "cell_type": "code",
      "metadata": {
        "id": "fmDDL-doxbgJ",
        "outputId": "e73196b7-b250-4783-ba64-c30679917649",
        "colab": {
          "base_uri": "https://localhost:8080/",
          "height": 284
        }
      },
      "source": [
        "heatmap_cov = sb.heatmap(cov_matrix)\n",
        "heatmap_cov"
      ],
      "execution_count": 5,
      "outputs": [
        {
          "output_type": "execute_result",
          "data": {
            "text/plain": [
              "<matplotlib.axes._subplots.AxesSubplot at 0x7f81c1d25a90>"
            ]
          },
          "metadata": {
            "tags": []
          },
          "execution_count": 5
        },
        {
          "output_type": "display_data",
          "data": {
            "image/png": "[encoded data removed]",
            "text/plain": [
              "<Figure size 432x288 with 2 Axes>"
            ]
          },
          "metadata": {
            "tags": [],
            "needs_background": "light"
          }
        }
      ]
    },
    {
      "cell_type": "markdown",
      "metadata": {
        "id": "VMryt4sLnTFj"
      },
      "source": [
        "\n",
        "\n",
        "---\n",
        "\n",
        "### Questão 03.\n",
        "\n",
        "Agora calcule a matriz de correlação (`pandas.DataFrame.corr`) utilizando o método de Pearson, gerando um heatmap da matriz. Esse método apresenta alguma vantagem com o método da questão anterior?"
      ]
    },
    {
      "cell_type": "code",
      "metadata": {
        "id": "fkMoQw_qnqEN",
        "outputId": "4e135c71-6f67-42dd-89a1-a7bb3ab6176d",
        "colab": {
          "base_uri": "https://localhost:8080/",
          "height": 175
        }
      },
      "source": [
        "cor_pearson = dados.corr(method='pearson')\n",
        "cor_pearson"
      ],
      "execution_count": 6,
      "outputs": [
        {
          "output_type": "execute_result",
          "data": {
            "text/html": [
              "<div>\n",
              "<style scoped>\n",
              "    .dataframe tbody tr th:only-of-type {\n",
              "        vertical-align: middle;\n",
              "    }\n",
              "\n",
              "    .dataframe tbody tr th {\n",
              "        vertical-align: top;\n",
              "    }\n",
              "\n",
              "    .dataframe thead th {\n",
              "        text-align: right;\n",
              "    }\n",
              "</style>\n",
              "<table border=\"1\" class=\"dataframe\">\n",
              "  <thead>\n",
              "    <tr style=\"text-align: right;\">\n",
              "      <th></th>\n",
              "      <th>dribbling</th>\n",
              "      <th>ball_control</th>\n",
              "      <th>strength</th>\n",
              "      <th>overall_rating</th>\n",
              "    </tr>\n",
              "  </thead>\n",
              "  <tbody>\n",
              "    <tr>\n",
              "      <th>dribbling</th>\n",
              "      <td>1.000000</td>\n",
              "      <td>0.916687</td>\n",
              "      <td>-0.168636</td>\n",
              "      <td>0.326474</td>\n",
              "    </tr>\n",
              "    <tr>\n",
              "      <th>ball_control</th>\n",
              "      <td>0.916687</td>\n",
              "      <td>1.000000</td>\n",
              "      <td>-0.049737</td>\n",
              "      <td>0.409329</td>\n",
              "    </tr>\n",
              "    <tr>\n",
              "      <th>strength</th>\n",
              "      <td>-0.168636</td>\n",
              "      <td>-0.049737</td>\n",
              "      <td>1.000000</td>\n",
              "      <td>0.180386</td>\n",
              "    </tr>\n",
              "    <tr>\n",
              "      <th>overall_rating</th>\n",
              "      <td>0.326474</td>\n",
              "      <td>0.409329</td>\n",
              "      <td>0.180386</td>\n",
              "      <td>1.000000</td>\n",
              "    </tr>\n",
              "  </tbody>\n",
              "</table>\n",
              "</div>"
            ],
            "text/plain": [
              "                dribbling  ball_control  strength  overall_rating\n",
              "dribbling        1.000000      0.916687 -0.168636        0.326474\n",
              "ball_control     0.916687      1.000000 -0.049737        0.409329\n",
              "strength        -0.168636     -0.049737  1.000000        0.180386\n",
              "overall_rating   0.326474      0.409329  0.180386        1.000000"
            ]
          },
          "metadata": {
            "tags": []
          },
          "execution_count": 6
        }
      ]
    },
    {
      "cell_type": "code",
      "metadata": {
        "id": "_XrkoteGyT31",
        "outputId": "5afd6abb-1ceb-4c63-9d9a-841a61abb46d",
        "colab": {
          "base_uri": "https://localhost:8080/",
          "height": 288
        }
      },
      "source": [
        "heatmap_cor_pearson = sb.heatmap(cor_pearson)\n",
        "heatmap_cor_pearson"
      ],
      "execution_count": 7,
      "outputs": [
        {
          "output_type": "execute_result",
          "data": {
            "text/plain": [
              "<matplotlib.axes._subplots.AxesSubplot at 0x7f81bf43ef98>"
            ]
          },
          "metadata": {
            "tags": []
          },
          "execution_count": 7
        },
        {
          "output_type": "display_data",
          "data": {
            "image/png": "[encoded data removed]",
            "text/plain": [
              "<Figure size 432x288 with 2 Axes>"
            ]
          },
          "metadata": {
            "tags": [],
            "needs_background": "light"
          }
        }
      ]
    },
    {
      "cell_type": "markdown",
      "metadata": {
        "id": "Eg_v2cjfylbU"
      },
      "source": [
        "blablabla"
      ]
    },
    {
      "cell_type": "markdown",
      "metadata": {
        "id": "CJgzBAiwoH_-"
      },
      "source": [
        "\n",
        "\n",
        "---\n",
        "\n",
        "### Questão 04.\n",
        "\n",
        "Agora calcule as matrizes de correlação utilizando os métodos de Kendall e Spearman. Exiba seus heatmaps."
      ]
    },
    {
      "cell_type": "code",
      "metadata": {
        "id": "pfGT3qPcogsV",
        "outputId": "1fac6885-5c7a-40d5-9066-4381138cdcf2",
        "colab": {
          "base_uri": "https://localhost:8080/",
          "height": 175
        }
      },
      "source": [
        "cor_kendall = dados.corr(method='kendall')\n",
        "cor_kendall"
      ],
      "execution_count": 8,
      "outputs": [
        {
          "output_type": "execute_result",
          "data": {
            "text/html": [
              "<div>\n",
              "<style scoped>\n",
              "    .dataframe tbody tr th:only-of-type {\n",
              "        vertical-align: middle;\n",
              "    }\n",
              "\n",
              "    .dataframe tbody tr th {\n",
              "        vertical-align: top;\n",
              "    }\n",
              "\n",
              "    .dataframe thead th {\n",
              "        text-align: right;\n",
              "    }\n",
              "</style>\n",
              "<table border=\"1\" class=\"dataframe\">\n",
              "  <thead>\n",
              "    <tr style=\"text-align: right;\">\n",
              "      <th></th>\n",
              "      <th>dribbling</th>\n",
              "      <th>ball_control</th>\n",
              "      <th>strength</th>\n",
              "      <th>overall_rating</th>\n",
              "    </tr>\n",
              "  </thead>\n",
              "  <tbody>\n",
              "    <tr>\n",
              "      <th>dribbling</th>\n",
              "      <td>1.000000</td>\n",
              "      <td>0.731547</td>\n",
              "      <td>-0.128539</td>\n",
              "      <td>0.346307</td>\n",
              "    </tr>\n",
              "    <tr>\n",
              "      <th>ball_control</th>\n",
              "      <td>0.731547</td>\n",
              "      <td>1.000000</td>\n",
              "      <td>-0.044941</td>\n",
              "      <td>0.481651</td>\n",
              "    </tr>\n",
              "    <tr>\n",
              "      <th>strength</th>\n",
              "      <td>-0.128539</td>\n",
              "      <td>-0.044941</td>\n",
              "      <td>1.000000</td>\n",
              "      <td>0.145968</td>\n",
              "    </tr>\n",
              "    <tr>\n",
              "      <th>overall_rating</th>\n",
              "      <td>0.346307</td>\n",
              "      <td>0.481651</td>\n",
              "      <td>0.145968</td>\n",
              "      <td>1.000000</td>\n",
              "    </tr>\n",
              "  </tbody>\n",
              "</table>\n",
              "</div>"
            ],
            "text/plain": [
              "                dribbling  ball_control  strength  overall_rating\n",
              "dribbling        1.000000      0.731547 -0.128539        0.346307\n",
              "ball_control     0.731547      1.000000 -0.044941        0.481651\n",
              "strength        -0.128539     -0.044941  1.000000        0.145968\n",
              "overall_rating   0.346307      0.481651  0.145968        1.000000"
            ]
          },
          "metadata": {
            "tags": []
          },
          "execution_count": 8
        }
      ]
    },
    {
      "cell_type": "code",
      "metadata": {
        "id": "lk17AZaYy5EN",
        "outputId": "b211f3e1-ce92-4411-9100-8c2fbcc58cd5",
        "colab": {
          "base_uri": "https://localhost:8080/",
          "height": 288
        }
      },
      "source": [
        "heatmap_cor_kendall = sb.heatmap(cor_kendall)\n",
        "heatmap_cor_kendall"
      ],
      "execution_count": 9,
      "outputs": [
        {
          "output_type": "execute_result",
          "data": {
            "text/plain": [
              "<matplotlib.axes._subplots.AxesSubplot at 0x7f81bef28a90>"
            ]
          },
          "metadata": {
            "tags": []
          },
          "execution_count": 9
        },
        {
          "output_type": "display_data",
          "data": {
            "image/png": "[encoded data removed]",
            "text/plain": [
              "<Figure size 432x288 with 2 Axes>"
            ]
          },
          "metadata": {
            "tags": [],
            "needs_background": "light"
          }
        }
      ]
    },
    {
      "cell_type": "code",
      "metadata": {
        "id": "O1oAV5cEzGUH",
        "outputId": "cc690497-e31c-4cdd-f59b-0909019ce2e1",
        "colab": {
          "base_uri": "https://localhost:8080/",
          "height": 175
        }
      },
      "source": [
        "cor_spearman = dados.corr(method='spearman')\n",
        "cor_spearman"
      ],
      "execution_count": 10,
      "outputs": [
        {
          "output_type": "execute_result",
          "data": {
            "text/html": [
              "<div>\n",
              "<style scoped>\n",
              "    .dataframe tbody tr th:only-of-type {\n",
              "        vertical-align: middle;\n",
              "    }\n",
              "\n",
              "    .dataframe tbody tr th {\n",
              "        vertical-align: top;\n",
              "    }\n",
              "\n",
              "    .dataframe thead th {\n",
              "        text-align: right;\n",
              "    }\n",
              "</style>\n",
              "<table border=\"1\" class=\"dataframe\">\n",
              "  <thead>\n",
              "    <tr style=\"text-align: right;\">\n",
              "      <th></th>\n",
              "      <th>dribbling</th>\n",
              "      <th>ball_control</th>\n",
              "      <th>strength</th>\n",
              "      <th>overall_rating</th>\n",
              "    </tr>\n",
              "  </thead>\n",
              "  <tbody>\n",
              "    <tr>\n",
              "      <th>dribbling</th>\n",
              "      <td>1.000000</td>\n",
              "      <td>0.882894</td>\n",
              "      <td>-0.188715</td>\n",
              "      <td>0.456750</td>\n",
              "    </tr>\n",
              "    <tr>\n",
              "      <th>ball_control</th>\n",
              "      <td>0.882894</td>\n",
              "      <td>1.000000</td>\n",
              "      <td>-0.065211</td>\n",
              "      <td>0.608309</td>\n",
              "    </tr>\n",
              "    <tr>\n",
              "      <th>strength</th>\n",
              "      <td>-0.188715</td>\n",
              "      <td>-0.065211</td>\n",
              "      <td>1.000000</td>\n",
              "      <td>0.203608</td>\n",
              "    </tr>\n",
              "    <tr>\n",
              "      <th>overall_rating</th>\n",
              "      <td>0.456750</td>\n",
              "      <td>0.608309</td>\n",
              "      <td>0.203608</td>\n",
              "      <td>1.000000</td>\n",
              "    </tr>\n",
              "  </tbody>\n",
              "</table>\n",
              "</div>"
            ],
            "text/plain": [
              "                dribbling  ball_control  strength  overall_rating\n",
              "dribbling        1.000000      0.882894 -0.188715        0.456750\n",
              "ball_control     0.882894      1.000000 -0.065211        0.608309\n",
              "strength        -0.188715     -0.065211  1.000000        0.203608\n",
              "overall_rating   0.456750      0.608309  0.203608        1.000000"
            ]
          },
          "metadata": {
            "tags": []
          },
          "execution_count": 10
        }
      ]
    },
    {
      "cell_type": "code",
      "metadata": {
        "id": "TWQOeC3NzMOS",
        "outputId": "701f0382-ac8a-43e9-9889-a01ecd8ea243",
        "colab": {
          "base_uri": "https://localhost:8080/",
          "height": 288
        }
      },
      "source": [
        "heatmap_cor_spearman = sb.heatmap(cor_spearman)\n",
        "heatmap_cor_spearman"
      ],
      "execution_count": 11,
      "outputs": [
        {
          "output_type": "execute_result",
          "data": {
            "text/plain": [
              "<matplotlib.axes._subplots.AxesSubplot at 0x7f81bee4df28>"
            ]
          },
          "metadata": {
            "tags": []
          },
          "execution_count": 11
        },
        {
          "output_type": "display_data",
          "data": {
            "image/png": "[encoded data removed]",
            "text/plain": [
              "<Figure size 432x288 with 2 Axes>"
            ]
          },
          "metadata": {
            "tags": [],
            "needs_background": "light"
          }
        }
      ]
    },
    {
      "cell_type": "markdown",
      "metadata": {
        "id": "mfRVp7NopMX-"
      },
      "source": [
        "\n",
        "\n",
        "---\n",
        "\n",
        "### Questão 05.\n",
        "\n",
        "Determine os pares de variáveis que apresentam maior e menor correlação de spearman. Depois produza scatter plots (`matplotlib.pyplot.scatter`) desses pares de variáveis. Comente como os dados estão distribuídos nos gráficos."
      ]
    },
    {
      "cell_type": "code",
      "metadata": {
        "id": "GLzjiTbYplcE",
        "outputId": "8b25b0d9-5235-4331-bf03-22334e339aee",
        "colab": {
          "base_uri": "https://localhost:8080/"
        }
      },
      "source": [
        "import matplotlib as plt\n",
        "\n",
        "max_id = cor_spearman.idxmax() #correlação máxima \n",
        "min_id = cor_spearman.idxmin() #correlação mínima\n",
        "\n",
        "print(\"Valores máximos de correlação: \\n\", max_id)\n",
        "\n",
        "print(\"\\n Valores mínimos de correlação: \\n\", min_id)"
      ],
      "execution_count": 15,
      "outputs": [
        {
          "output_type": "stream",
          "text": [
            "Valores máximos de correlação: \n",
            " dribbling              dribbling\n",
            "ball_control        ball_control\n",
            "strength                strength\n",
            "overall_rating    overall_rating\n",
            "dtype: object\n",
            "\n",
            " Valores mínimos de correlação: \n",
            " dribbling          strength\n",
            "ball_control       strength\n",
            "strength          dribbling\n",
            "overall_rating     strength\n",
            "dtype: object\n"
          ],
          "name": "stdout"
        }
      ]
    },
    {
      "cell_type": "code",
      "metadata": {
        "id": "PvpOlsGU3OEY",
        "outputId": "d2e3196a-1a2f-4cd2-88df-0e93181d1cd4",
        "colab": {
          "base_uri": "https://localhost:8080/",
          "height": 1000
        }
      },
      "source": [
        "for m in max_id:\n",
        "  dados.plot.scatter(x=m, y=m)"
      ],
      "execution_count": 16,
      "outputs": [
        {
          "output_type": "display_data",
          "data": {
            "image/png": "[encoded data removed]",
            "text/plain": [
              "<Figure size 432x288 with 1 Axes>"
            ]
          },
          "metadata": {
            "tags": [],
            "needs_background": "light"
          }
        },
        {
          "output_type": "display_data",
          "data": {
            "image/png": "[encoded data removed]",
            "text/plain": [
              "<Figure size 432x288 with 1 Axes>"
            ]
          },
          "metadata": {
            "tags": [],
            "needs_background": "light"
          }
        },
        {
          "output_type": "display_data",
          "data": {
            "image/png": "[encoded data removed]",
            "text/plain": [
              "<Figure size 432x288 with 1 Axes>"
            ]
          },
          "metadata": {
            "tags": [],
            "needs_background": "light"
          }
        },
        {
          "output_type": "display_data",
          "data": {
            "image/png": "[encoded data removed]",
            "text/plain": [
              "<Figure size 432x288 with 1 Axes>"
            ]
          },
          "metadata": {
            "tags": [],
            "needs_background": "light"
          }
        }
      ]
    },
    {
      "cell_type": "markdown",
      "metadata": {
        "id": "cELYEU55Qewm"
      },
      "source": [
        "É possível observar que a máxima correlação são dos atributos com eles mesmos, gerando um gráfico linear crescente, o que faz sentido já que a correlação do atributo consigo mesmo é máxima"
      ]
    },
    {
      "cell_type": "code",
      "metadata": {
        "id": "Lt5K7aqbQdBL",
        "outputId": "58cab771-b44f-4289-841e-28305655c30d",
        "colab": {
          "base_uri": "https://localhost:8080/",
          "height": 1000
        }
      },
      "source": [
        "atrib_a = ['dribbling','ball_control','strength','overall_rating']\n",
        "atrib_b = ['strength','strength','dribbling','strength']\n",
        "\n",
        "for i in range(len(atrib_a)):\n",
        "  dados.plot.scatter(x=atrib_a[i], y=atrib_b[i])"
      ],
      "execution_count": 17,
      "outputs": [
        {
          "output_type": "display_data",
          "data": {
            "image/png": "[encoded data removed]",
            "text/plain": [
              "<Figure size 432x288 with 1 Axes>"
            ]
          },
          "metadata": {
            "tags": [],
            "needs_background": "light"
          }
        },
        {
          "output_type": "display_data",
          "data": {
            "image/png": "[encoded data removed]",
            "text/plain": [
              "<Figure size 432x288 with 1 Axes>"
            ]
          },
          "metadata": {
            "tags": [],
            "needs_background": "light"
          }
        },
        {
          "output_type": "display_data",
          "data": {
            "image/png": "[encoded data removed]",
            "text/plain": [
              "<Figure size 432x288 with 1 Axes>"
            ]
          },
          "metadata": {
            "tags": [],
            "needs_background": "light"
          }
        },
        {
          "output_type": "display_data",
          "data": {
            "image/png": "[encoded data removed]",
            "text/plain": [
              "<Figure size 432x288 with 1 Axes>"
            ]
          },
          "metadata": {
            "tags": [],
            "needs_background": "light"
          }
        }
      ]
    },
    {
      "cell_type": "markdown",
      "metadata": {
        "id": "V7ChFDvAQj7E"
      },
      "source": [
        "Como os atributos possuem baixa correlação (correlação próxima de 0), siginifica que eles não apresentam nenhuma relação de proporcionalidade, são idependentes entre si, dessa forma é possível observar o gráfico totalmente disperso, sem nenhum padrão."
      ]
    },
    {
      "cell_type": "markdown",
      "metadata": {
        "id": "o_-XAV0wxmYR"
      },
      "source": [
        "\n",
        "\n",
        "---\n",
        "\n",
        "### Questão 06.\n",
        "\n",
        "Produza um diagrama de torta (`matplotlib.pyplot.pie`) mostrando a distribuição dos jogadores que são estrelas ou não."
      ]
    },
    {
      "cell_type": "code",
      "metadata": {
        "id": "rx66WYvgxuan",
        "outputId": "c760a4cf-728e-48eb-b0ec-03eb2dfeb55b",
        "colab": {
          "base_uri": "https://localhost:8080/",
          "height": 254
        }
      },
      "source": [
        "import matplotlib.pyplot as plt\n",
        "len(classes[classes == \"Normal\" ])\n",
        "len(classes[classes == \"Estrela\" ])\n",
        "\n",
        "labels = 'Normal', 'Estrela'\n",
        "sizes = [len(classes[classes == \"Normal\" ]), len(classes[classes == \"Estrela\" ])]\n",
        "explode = (0, 0.1)  # só faz com que o Estrela\n",
        "\n",
        "fig1, ax1 = plt.subplots()\n",
        "ax1.pie(sizes, explode=explode, labels=labels, autopct='%1.1f%%',\n",
        "        shadow=False, startangle=90)\n",
        "\n",
        "ax1.axis('equal')  # Faz com que a porcentagem total seja limitada a 100% e permaneça o circulo\n",
        "\n",
        "plt.show()"
      ],
      "execution_count": 18,
      "outputs": [
        {
          "output_type": "display_data",
          "data": {
            "image/png": "[encoded data removed]",
            "text/plain": [
              "<Figure size 432x288 with 1 Axes>"
            ]
          },
          "metadata": {
            "tags": []
          }
        }
      ]
    }
  ]
}